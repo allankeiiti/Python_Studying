{
 "cells": [
  {
   "cell_type": "markdown",
   "metadata": {},
   "source": [
    "## OOP Lectures from Python Course - SoloLearn"
   ]
  },
  {
   "cell_type": "markdown",
   "metadata": {},
   "source": [
    "##### Estou deixando esta pasta, para acrescentar conteúdo que não foram passados no curso da DataScienceAcademy - Allan"
   ]
  },
  {
   "cell_type": "code",
   "execution_count": 9,
   "metadata": {},
   "outputs": [
    {
     "name": "stdout",
     "output_type": "stream",
     "text": [
      "Woof\n",
      "Grr...\n"
     ]
    }
   ],
   "source": [
    "#  \n",
    "class Wolf:\n",
    "    def __init__(self, name, color):\n",
    "        self.name = name\n",
    "        self.color = color\n",
    "        \n",
    "    def bark(self):\n",
    "        print('Grr...')\n",
    "        \n",
    "class Dog(Wolf):\n",
    "    def bark(self):\n",
    "        print('Woof')\n",
    "        \n",
    "husky = Dog(\"Max\", \"grey\")\n",
    "husky.bark()"
   ]
  },
  {
   "cell_type": "markdown",
   "metadata": {},
   "source": [
    "#### Função Super "
   ]
  },
  {
   "cell_type": "code",
   "execution_count": 7,
   "metadata": {},
   "outputs": [
    {
     "name": "stdout",
     "output_type": "stream",
     "text": [
      "2\n",
      "1\n",
      "x\n",
      "y\n"
     ]
    }
   ],
   "source": [
    "# A função Super é útil relacionada à herança que se refere à classe pai\n",
    "# Pode ser usado para encontrar o método com um certo nome em uma superclasse de objetos\n",
    "class A:\n",
    "    def spam(self):\n",
    "        print(1)\n",
    "        print('x')\n",
    "        print('y')\n",
    "        \n",
    "class B(A):\n",
    "    def spam(self):\n",
    "        print(2)\n",
    "        super().spam()\n",
    "        \n",
    "B().spam()"
   ]
  },
  {
   "cell_type": "markdown",
   "metadata": {},
   "source": [
    "## Magic Methods"
   ]
  },
  {
   "cell_type": "code",
   "execution_count": 22,
   "metadata": {},
   "outputs": [],
   "source": [
    "class Vector2D:\n",
    "    def __init__(self, x, y):\n",
    "        self.x = x\n",
    "        self.y = y\n",
    "    # Exemplo método __add__ é executado com '+'\n",
    "    def __add__(self, other):\n",
    "        return Vector2D(self.x + other.x, self.y + other.y)\n",
    "    # Exemplo método __sub__ é executado com '-'\n",
    "    def __sub__(self, other):\n",
    "        print('Hey!')        \n",
    "        return Vector2D(self.x - other.x, self.y - other.y)"
   ]
  },
  {
   "cell_type": "code",
   "execution_count": 23,
   "metadata": {},
   "outputs": [
    {
     "name": "stdout",
     "output_type": "stream",
     "text": [
      "9 16\n"
     ]
    }
   ],
   "source": [
    "# Testando o método __add__ da classe Vector2D\n",
    "first = Vector2D(6, 7)\n",
    "second = Vector2D(3, 9)\n",
    "result = first + second\n",
    "print(result.x, result.y)"
   ]
  },
  {
   "cell_type": "code",
   "execution_count": 27,
   "metadata": {},
   "outputs": [
    {
     "name": "stdout",
     "output_type": "stream",
     "text": [
      "Hey!\n",
      "<__main__.Vector2D object at 0x000001F51F3ADC88> <class '__main__.Vector2D'>\n",
      "3 16\n"
     ]
    }
   ],
   "source": [
    "# Testando o método __sub__ da classe Vector2D\n",
    "resultx = first - second\n",
    "print(resultx, type(resultx))\n",
    "print(resultx.x, result.y)"
   ]
  },
  {
   "cell_type": "code",
   "execution_count": 28,
   "metadata": {},
   "outputs": [
    {
     "name": "stdout",
     "output_type": "stream",
     "text": [
      "Spam\n",
      "==========\n",
      "Olá Mundo!\n"
     ]
    }
   ],
   "source": [
    "# A expressão x + y é traduzida em x.__add__(y), porém, se X não implementou __add__ e X e Y são de tipos distintos, então\n",
    "# y.__radd__(x) é chamado\n",
    "# Há métodos R equivalentes para todos os métodos mágicos:\n",
    "class SpecialString:\n",
    "    def __init__(self, cont):\n",
    "        self.cont = cont\n",
    "    def __truediv__(self, other):\n",
    "        line = \"=\" * len(other.cont)\n",
    "        return \"\\n\".join([self.cont, line, other.cont])\n",
    "    \n",
    "spam = SpecialString(\"Spam\")\n",
    "hello = SpecialString(\"Olá Mundo!\")\n",
    "print(spam / hello)"
   ]
  },
  {
   "cell_type": "code",
   "execution_count": 30,
   "metadata": {},
   "outputs": [
    {
     "name": "stdout",
     "output_type": "stream",
     "text": [
      "0\n",
      ">spam>eggs\n",
      "1\n",
      "e>spam>ggs\n",
      "2\n",
      "eg>spam>gs\n",
      "3\n",
      "egg>spam>s\n",
      "4\n",
      "eggs>spam>\n"
     ]
    }
   ],
   "source": [
    "# Python também fornece métodos mágicos de COMPARAÇÂO\n",
    "# __lt__ para <    __le__ para <= __eq__ para == __ne__ para !=    __gt__ para >   e __ge__ para >=\n",
    "\n",
    "class SpecialString:\n",
    "    def __init__(self, cont):\n",
    "        self.cont = cont\n",
    "        \n",
    "    def __gt__(self, other):\n",
    "        for index in range(len(other.cont) + 1):\n",
    "            result = other.cont[:index] + \">\" + self.cont\n",
    "            result += \">\" + other.cont[index:]\n",
    "            print(index)\n",
    "            print(result)\n",
    "            \n",
    "spam = SpecialString(\"spam\")\n",
    "eggs = SpecialString(\"eggs\")\n",
    "spam > eggs"
   ]
  },
  {
   "cell_type": "code",
   "execution_count": 34,
   "metadata": {},
   "outputs": [
    {
     "name": "stdout",
     "output_type": "stream",
     "text": [
      "__len__\n",
      "5\n",
      "__len__\n",
      "9\n",
      "__getitem__\n",
      "B\n",
      "__getitem__\n",
      "D\n"
     ]
    }
   ],
   "source": [
    "# Há métodos especiais que servem como Containers\n",
    "# __len__ para len() --  __getitem__ obter item de um índice\n",
    "# __setitem__ para setar valor no índice  --  __delitem__ para deletar valores no índice\n",
    "# __iter__ para iteração sobre objetos --  __contains__ para em\n",
    "\n",
    "import random\n",
    "class VagueList:\n",
    "    def __init__(self, cont):\n",
    "        self.cont = cont\n",
    "    def __getitem__(self, index):\n",
    "        print('__getitem__')\n",
    "        return self.cont[index + random.randint(-1, 1)]\n",
    "    def __len__(self):\n",
    "        print('__len__')\n",
    "        return random.randint(0, len(self.cont)*2)\n",
    "                              \n",
    "vague_list = VagueList([\"A\", \"B\", \"C\", \"D\", \"E\"])\n",
    "print(len(vague_list))\n",
    "print(len(vague_list))\n",
    "print(vague_list[2])\n",
    "print(vague_list[2])"
   ]
  },
  {
   "cell_type": "markdown",
   "metadata": {},
   "source": [
    "## Encapsulamento"
   ]
  },
  {
   "cell_type": "code",
   "execution_count": 39,
   "metadata": {},
   "outputs": [
    {
     "name": "stdout",
     "output_type": "stream",
     "text": [
      "Queue([1, 2, 3])\n",
      "Queue([1, 6, 56, 4, 0, 1, 2, 3])\n",
      "Queue([1, 6, 56, 4, 0, 1, 2])\n",
      "[1, 6, 56, 4, 0, 1, 2]\n"
     ]
    }
   ],
   "source": [
    "# No Python, um método privado é um código externo de método que é desencorajado de usar.\n",
    "# Pois eles seguem o lema \"Nós somos todos adultos consentido aqui\"\n",
    "\n",
    "# Fracamente Privado são métodos com apenas um _ underline\n",
    "class Queue:\n",
    "    def __init__(self, contents):\n",
    "        self._hiddenlist = list(contents)\n",
    "    def push(self, value):\n",
    "        # Push insere valor na HiddenList\n",
    "        self._hiddenlist.insert(0, value)\n",
    "    def pop(self):\n",
    "        # Pop remove valor na HiddenList\n",
    "        return self._hiddenlist.pop(-1)\n",
    "    def __repr__(self):\n",
    "        return \"Queue({})\".format(self._hiddenlist)\n",
    "\n",
    "queue = Queue([1, 2, 3])\n",
    "print(queue)\n",
    "queue.push(0)\n",
    "queue.push(4)\n",
    "queue.push(56)\n",
    "queue.push(6)\n",
    "queue.push(1)\n",
    "print(queue)\n",
    "queue.pop()\n",
    "print(queue)\n",
    "print(queue._hiddenlist)\n",
    "\n",
    "# O efeito disto é que \"from module_name import * \" não irá importar variáveis fracamente acopladas"
   ]
  },
  {
   "cell_type": "code",
   "execution_count": 44,
   "metadata": {},
   "outputs": [
    {
     "name": "stdout",
     "output_type": "stream",
     "text": [
      "7\n",
      "7\n"
     ]
    },
    {
     "ename": "AttributeError",
     "evalue": "'Spam' object has no attribute '__egg'",
     "output_type": "error",
     "traceback": [
      "\u001b[1;31m---------------------------------------------------------------------------\u001b[0m",
      "\u001b[1;31mAttributeError\u001b[0m                            Traceback (most recent call last)",
      "\u001b[1;32m<ipython-input-44-8c51ce210bfa>\u001b[0m in \u001b[0;36m<module>\u001b[1;34m\u001b[0m\n\u001b[0;32m     12\u001b[0m \u001b[0mprint\u001b[0m\u001b[1;33m(\u001b[0m\u001b[0ms\u001b[0m\u001b[1;33m.\u001b[0m\u001b[0m_Spam__egg\u001b[0m\u001b[1;33m)\u001b[0m\u001b[1;33m\u001b[0m\u001b[1;33m\u001b[0m\u001b[0m\n\u001b[0;32m     13\u001b[0m \u001b[1;31m#Acessando de fora da Classe\u001b[0m\u001b[1;33m\u001b[0m\u001b[1;33m\u001b[0m\u001b[1;33m\u001b[0m\u001b[0m\n\u001b[1;32m---> 14\u001b[1;33m \u001b[0mprint\u001b[0m\u001b[1;33m(\u001b[0m\u001b[0ms\u001b[0m\u001b[1;33m.\u001b[0m\u001b[0m__egg\u001b[0m\u001b[1;33m)\u001b[0m\u001b[1;33m\u001b[0m\u001b[1;33m\u001b[0m\u001b[0m\n\u001b[0m",
      "\u001b[1;31mAttributeError\u001b[0m: 'Spam' object has no attribute '__egg'"
     ]
    }
   ],
   "source": [
    "# Fortemente acopladas seguem por __ 2 underlines. Impedindo que sejam acessados de fora da classe\n",
    "# O propósito é para evitar Bugs se há subclasses que tem métodos ou atributos com mesmo nome\n",
    "\n",
    "class Spam:\n",
    "    __egg = 7\n",
    "    def print_egg(self):\n",
    "        print(self.__egg)\n",
    "\n",
    "# Acessando da Classe\n",
    "s = Spam()\n",
    "s.print_egg()\n",
    "print(s._Spam__egg)\n",
    "\n",
    "#Acessando de fora da Classe\n",
    "print(s.__egg)"
   ]
  },
  {
   "cell_type": "code",
   "execution_count": null,
   "metadata": {},
   "outputs": [],
   "source": []
  }
 ],
 "metadata": {
  "kernelspec": {
   "display_name": "Python 3",
   "language": "python",
   "name": "python3"
  },
  "language_info": {
   "codemirror_mode": {
    "name": "ipython",
    "version": 3
   },
   "file_extension": ".py",
   "mimetype": "text/x-python",
   "name": "python",
   "nbconvert_exporter": "python",
   "pygments_lexer": "ipython3",
   "version": "3.7.3"
  }
 },
 "nbformat": 4,
 "nbformat_minor": 2
}
