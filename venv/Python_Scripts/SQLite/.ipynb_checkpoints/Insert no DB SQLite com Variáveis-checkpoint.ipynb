{
 "cells": [
  {
   "cell_type": "code",
   "execution_count": 5,
   "metadata": {},
   "outputs": [],
   "source": [
    "import sqlite3\n",
    "from random import randrange\n",
    "import time\n",
    "from datetime import datetime\n",
    "\n",
    "con = sqlite3.connect('dsa2.db')\n",
    "c = con.cursor()\n",
    "\n",
    "# Função para criar uma tabela\n",
    "def create_table():\n",
    "    c.execute('CREATE TABLE IF NOT EXISTS produtos('\\\n",
    "              'ID INTEGER PRIMARY KEY AUTOINCREMENT NOT NULL,'\\\n",
    "              'DATE TEXT, '\\\n",
    "              'PROD_NAME TEXT, '\\\n",
    "              'VALOR REAL)')\n",
    "    \n",
    "def data_insert():\n",
    "    c.execute(\"INSERT INTO produtos VALUES(10, '2018-05-02 14:32:11', 'Teclado', 90)\")\n",
    "    con.commit()\n",
    "    c.close()\n",
    "    con.close()\n",
    "    \n",
    "def data_insert_var():\n",
    "    new_date = datetime.now()\n",
    "    new_prod_name = 'Monitor'\n",
    "    new_valor = randrange(50,100)\n",
    "    c.execute(\"INSERT INTO produtos (DATE, PROD_NAME, VALOR) VALUES (?, ?, ?)\", (new_date, new_prod_name, new_valor))\n",
    "    con.commit()\n",
    "    \n",
    "create_table()"
   ]
  },
  {
   "cell_type": "code",
   "execution_count": 6,
   "metadata": {},
   "outputs": [],
   "source": [
    "# Gerando valores e inserindo na tabela\n",
    "for i in range(10):\n",
    "    data_insert_var()\n",
    "    time.sleep(1)"
   ]
  },
  {
   "cell_type": "code",
   "execution_count": 9,
   "metadata": {},
   "outputs": [
    {
     "name": "stdout",
     "output_type": "stream",
     "text": [
      "ID: 1 | Date: 2019-07-25 00:07:53.057999 | Nome do Produto: Monitor | Valor: 71.0\n",
      "\n",
      "ID: 2 | Date: 2019-07-25 00:07:54.081571 | Nome do Produto: Monitor | Valor: 77.0\n",
      "\n",
      "ID: 3 | Date: 2019-07-25 00:07:55.096101 | Nome do Produto: Monitor | Valor: 79.0\n",
      "\n",
      "ID: 4 | Date: 2019-07-25 00:07:56.111208 | Nome do Produto: Monitor | Valor: 75.0\n",
      "\n",
      "ID: 5 | Date: 2019-07-25 00:07:57.131249 | Nome do Produto: Monitor | Valor: 89.0\n",
      "\n",
      "ID: 6 | Date: 2019-07-25 00:07:58.145714 | Nome do Produto: Monitor | Valor: 94.0\n",
      "\n",
      "ID: 7 | Date: 2019-07-25 00:07:59.160108 | Nome do Produto: Monitor | Valor: 57.0\n",
      "\n",
      "ID: 8 | Date: 2019-07-25 00:08:00.175834 | Nome do Produto: Monitor | Valor: 90.0\n",
      "\n",
      "ID: 9 | Date: 2019-07-25 00:08:01.190905 | Nome do Produto: Monitor | Valor: 85.0\n",
      "\n",
      "ID: 10 | Date: 2019-07-25 00:08:02.202552 | Nome do Produto: Monitor | Valor: 64.0\n",
      "\n"
     ]
    }
   ],
   "source": [
    "# Realizando Select\n",
    "sql_select = 'SELECT * FROM produtos'\n",
    "\n",
    "c.execute(sql_select)\n",
    "dados = c.fetchall()\n",
    "\n",
    "for tupla in dados:\n",
    "    print('ID: %d | Date: %s | Nome do Produto: %s | Valor: %s\\n' % tupla)"
   ]
  },
  {
   "cell_type": "code",
   "execution_count": 10,
   "metadata": {},
   "outputs": [],
   "source": [
    "# Encerrando a conexão\n",
    "c.close()\n",
    "con.close()"
   ]
  },
  {
   "cell_type": "markdown",
   "metadata": {},
   "source": [
    "# Fim"
   ]
  }
 ],
 "metadata": {
  "kernelspec": {
   "display_name": "Python 3",
   "language": "python",
   "name": "python3"
  },
  "language_info": {
   "codemirror_mode": {
    "name": "ipython",
    "version": 3
   },
   "file_extension": ".py",
   "mimetype": "text/x-python",
   "name": "python",
   "nbconvert_exporter": "python",
   "pygments_lexer": "ipython3",
   "version": "3.7.3"
  }
 },
 "nbformat": 4,
 "nbformat_minor": 2
}
