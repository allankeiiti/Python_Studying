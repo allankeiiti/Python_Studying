{
 "cells": [
  {
   "cell_type": "code",
   "execution_count": 1,
   "metadata": {},
   "outputs": [],
   "source": [
    "# Remove o banco de dados 'dsa.db' caso ele exista\n",
    "from os import remove, path\n",
    "remove('dsa.db') if path.exists('dsa.db') else None"
   ]
  },
  {
   "cell_type": "code",
   "execution_count": 2,
   "metadata": {},
   "outputs": [],
   "source": [
    "# O SQLite já vem embutido no Anaconda\n",
    "import sqlite3\n",
    "\n",
    "# Criando a conexão\n",
    "con = sqlite3.connect('dsa.db')\n",
    "\n",
    "# Criando um cursor\n",
    "cur = con.cursor()\n",
    "\n",
    "# Função para CREATE\n",
    "def create_table():\n",
    "    cur.execute('CREATE TABLE IF NOT EXISTS produtos ('\\\n",
    "                'ID INTEGER PRIMARY KEY AUTOINCREMENT NOT NULL,'\\\n",
    "                'DATE TEXT, '\\\n",
    "                'PROD_NOME TEXT, '\\\n",
    "                'VALOR REAL)')\n",
    "    \n",
    "# Função para INSERT\n",
    "def data_insert():\n",
    "    cur.execute(\"INSERT INTO produtos VALUES(10, '2018-05-02 14:32:11', 'Teclado', 90)\")\n",
    "    con.commit()\n",
    "    cur.close()\n",
    "    con.close()"
   ]
  },
  {
   "cell_type": "code",
   "execution_count": 3,
   "metadata": {},
   "outputs": [],
   "source": [
    "create_table()"
   ]
  },
  {
   "cell_type": "code",
   "execution_count": 4,
   "metadata": {},
   "outputs": [],
   "source": [
    "data_insert()"
   ]
  },
  {
   "cell_type": "code",
   "execution_count": 5,
   "metadata": {},
   "outputs": [],
   "source": [
    "dados = [('2019-07-24 23:30:00', 'Livro Python Fluente', 90),\n",
    "         ('2019-07-24 23:30:00', 'Livro Python para Analise de Dados', 90),\n",
    "         ('2019-07-24 23:30:00', 'Livro Java para Leigos', 100),\n",
    "         ('2019-07-24 23:30:00', 'Placa de Video GeForce 9800GT 1GB', 200)]"
   ]
  },
  {
   "cell_type": "code",
   "execution_count": null,
   "metadata": {},
   "outputs": [],
   "source": []
  }
 ],
 "metadata": {
  "kernelspec": {
   "display_name": "Python 3",
   "language": "python",
   "name": "python3"
  },
  "language_info": {
   "codemirror_mode": {
    "name": "ipython",
    "version": 3
   },
   "file_extension": ".py",
   "mimetype": "text/x-python",
   "name": "python",
   "nbconvert_exporter": "python",
   "pygments_lexer": "ipython3",
   "version": "3.7.3"
  }
 },
 "nbformat": 4,
 "nbformat_minor": 2
}
