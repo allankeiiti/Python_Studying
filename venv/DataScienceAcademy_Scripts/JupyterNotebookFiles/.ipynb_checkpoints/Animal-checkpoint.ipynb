{
 "cells": [
  {
   "cell_type": "code",
   "execution_count": 1,
   "metadata": {},
   "outputs": [],
   "source": [
    "# Super-Classe\n",
    "class Animal():\n",
    "    def __init__(self):\n",
    "        print('Animal Criado')\n",
    "    def Identif(self):\n",
    "        print('Animal')\n",
    "    def comer(self):\n",
    "        print('Comendo')\n",
    "    def tackle(self):\n",
    "        print('Uses Tackle')"
   ]
  },
  {
   "cell_type": "code",
   "execution_count": 2,
   "metadata": {},
   "outputs": [],
   "source": [
    "# Sub-Classe\n",
    "class Cachorro(Animal):\n",
    "    def __init__(self):\n",
    "        Animal.__init__(self)\n",
    "        print('Objeto Cachorro criado')\n",
    "    def Identif(self):\n",
    "        print('Cachorro')\n",
    "    def comer(self):\n",
    "        print('Au Au!')\n",
    "    def latir(self):\n",
    "        print('Rowf!')"
   ]
  },
  {
   "cell_type": "code",
   "execution_count": 3,
   "metadata": {},
   "outputs": [],
   "source": [
    "# Sub-Classe\n",
    "class Gato(Animal):\n",
    "    def __init__(self):\n",
    "        Animal.__init__(self)\n",
    "        print('Objeto Gato criado')\n",
    "    def Identif(self):\n",
    "        print('Gato')\n",
    "    def comer(self):\n",
    "        print('Meow...')\n",
    "    def scratch(self):\n",
    "        print('Uses Scratch!')"
   ]
  },
  {
   "cell_type": "code",
   "execution_count": 4,
   "metadata": {},
   "outputs": [
    {
     "name": "stdout",
     "output_type": "stream",
     "text": [
      "Animal Criado\n",
      "Objeto Cachorro criado\n",
      "Uses Tackle\n"
     ]
    }
   ],
   "source": [
    "Rex = Cachorro()\n",
    "Rex.tackle()"
   ]
  },
  {
   "cell_type": "code",
   "execution_count": 5,
   "metadata": {},
   "outputs": [
    {
     "name": "stdout",
     "output_type": "stream",
     "text": [
      "Animal Criado\n",
      "Objeto Gato criado\n",
      "Meow...\n"
     ]
    }
   ],
   "source": [
    "Garfield = Gato()\n",
    "Garfield.comer()"
   ]
  },
  {
   "cell_type": "code",
   "execution_count": null,
   "metadata": {},
   "outputs": [],
   "source": []
  }
 ],
 "metadata": {
  "kernelspec": {
   "display_name": "Python 3",
   "language": "python",
   "name": "python3"
  },
  "language_info": {
   "codemirror_mode": {
    "name": "ipython",
    "version": 3
   },
   "file_extension": ".py",
   "mimetype": "text/x-python",
   "name": "python",
   "nbconvert_exporter": "python",
   "pygments_lexer": "ipython3",
   "version": "3.7.3"
  }
 },
 "nbformat": 4,
 "nbformat_minor": 2
}
