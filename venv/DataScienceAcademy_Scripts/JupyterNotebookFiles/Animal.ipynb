{
 "cells": [
  {
   "cell_type": "code",
   "execution_count": 3,
   "metadata": {},
   "outputs": [],
   "source": [
    "class Animal():\n",
    "    def __init__(self):\n",
    "        print('Animal Criado')\n",
    "    def Identif(self):\n",
    "        print('Animal')\n",
    "    def comer(self):\n",
    "        print('Comendo')"
   ]
  },
  {
   "cell_type": "code",
   "execution_count": 4,
   "metadata": {},
   "outputs": [],
   "source": [
    "class Cachorro(Animal):\n",
    "    def __init__(self):\n",
    "        Animal.__init__(self)\n",
    "        print('Objeto Cachorro criado')\n",
    "    def Identif(self):\n",
    "        print('Cachorro')\n",
    "    def comer(self):\n",
    "        print('Au Au!')"
   ]
  },
  {
   "cell_type": "code",
   "execution_count": null,
   "metadata": {},
   "outputs": [],
   "source": []
  }
 ],
 "metadata": {
  "kernelspec": {
   "display_name": "Python 3",
   "language": "python",
   "name": "python3"
  },
  "language_info": {
   "codemirror_mode": {
    "name": "ipython",
    "version": 3
   },
   "file_extension": ".py",
   "mimetype": "text/x-python",
   "name": "python",
   "nbconvert_exporter": "python",
   "pygments_lexer": "ipython3",
   "version": "3.7.3"
  }
 },
 "nbformat": 4,
 "nbformat_minor": 2
}
