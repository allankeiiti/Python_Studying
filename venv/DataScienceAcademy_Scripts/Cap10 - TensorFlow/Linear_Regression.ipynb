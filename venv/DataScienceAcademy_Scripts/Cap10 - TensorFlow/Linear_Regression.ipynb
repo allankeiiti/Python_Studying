{
 "cells": [
  {
   "cell_type": "code",
   "execution_count": 1,
   "metadata": {},
   "outputs": [
    {
     "name": "stdout",
     "output_type": "stream",
     "text": [
      "WARNING:tensorflow:From C:\\Anaconda3\\envs\\Teste\\lib\\site-packages\\tensorflow_core\\python\\compat\\v2_compat.py:65: disable_resource_variables (from tensorflow.python.ops.variable_scope) is deprecated and will be removed in a future version.\n",
      "Instructions for updating:\n",
      "non-resource variables are not supported in the long term\n"
     ]
    }
   ],
   "source": [
    "import tensorflow.compat.v1 as tf\n",
    "tf.disable_v2_behavior()\n",
    "import numpy as np\n",
    "import matplotlib.pyplot as plt\n",
    "%matplotlib inline"
   ]
  },
  {
   "cell_type": "markdown",
   "metadata": {},
   "source": [
    "# Definindo os Hyper-parâmetros\n",
    "#### (Config. de modelo)"
   ]
  },
  {
   "cell_type": "code",
   "execution_count": 2,
   "metadata": {},
   "outputs": [],
   "source": [
    "learning_rate = 0.01\n",
    "training_epochs = 4000\n",
    "display_step = 200"
   ]
  },
  {
   "cell_type": "markdown",
   "metadata": {},
   "source": [
    "# Definindo os Datasets de treino e teste\n",
    "#### X - Tamanho de Casas / Y - Preço de uma Casa"
   ]
  },
  {
   "cell_type": "code",
   "execution_count": 3,
   "metadata": {},
   "outputs": [],
   "source": [
    "# Dataset de treino - 70%\n",
    "train_X = np.asarray([3.3, 4.4, 5.5, 6.71, 6.93, 4.168, 9.779, 6.182, 7.59, 2.167, 7.042, 10.791, 5.313, 7.997, 5.654, 9.27, 3.1])\n",
    "train_y = np.asarray([1.7, 2.76, 2.09, 3.19, 1.694, 1.573, 3.366, 2.596, 2.53, 1.221, 2.827, 3.465, 1.65, 2.904, 2.42, 2.94, 1.3])\n",
    "n_samples = train_X.shape[0]\n",
    " \n",
    "# Dataset de teste - 30%\n",
    "test_X = np.asarray([6.83, 4.668, 8.9, 7.91, 5.7, 8.7, 3.1, 2.1])\n",
    "test_y = np.asarray([1.84, 2.273, 3.2, 2.831, 2.92, 3.24, 1.35, 1.03])"
   ]
  },
  {
   "cell_type": "markdown",
   "metadata": {},
   "source": [
    "# Placeholders e variáveis\n",
    "#### Placeholders para variáveis preditoras (x) e para variável target (y)"
   ]
  },
  {
   "cell_type": "code",
   "execution_count": 4,
   "metadata": {},
   "outputs": [],
   "source": [
    "x = tf.placeholder(tf.float32)\n",
    "y = tf.placeholder(tf.float32)\n",
    "\n",
    "# Pesos e bias do modelo\n",
    "w = tf.Variable(np.random.randn(), name='weight')\n",
    "b = tf.Variable(np.random.randn(), name='bias')"
   ]
  },
  {
   "cell_type": "markdown",
   "metadata": {},
   "source": [
    "# Construindo o modelo"
   ]
  },
  {
   "cell_type": "code",
   "execution_count": 5,
   "metadata": {},
   "outputs": [],
   "source": [
    "# Construindo o modelo linear\n",
    "# Fórmula do modelo linear: y = W*X + b\n",
    "linear_model = w*x + b\n",
    "\n",
    "# MSE - Mean Squared Error\n",
    "cost = tf.reduce_sum(tf.square(linear_model - y)) / (2 * n_samples)\n",
    "\n",
    "# Otimização com Gradient Descent\n",
    "optmizer = tf.train.GradientDescentOptimizer(learning_rate).minimize(cost)"
   ]
  },
  {
   "cell_type": "code",
   "execution_count": 6,
   "metadata": {},
   "outputs": [],
   "source": [
    "# Iniciando a sessão do TensorFlow\n",
    "sess = tf.Session()"
   ]
  },
  {
   "cell_type": "markdown",
   "metadata": {},
   "source": [
    "# Exec. o grafo computacional, treinando e testando o modelo"
   ]
  },
  {
   "cell_type": "code",
   "execution_count": 7,
   "metadata": {},
   "outputs": [],
   "source": [
    "# Inicializando as variáveis\n",
    "init = tf.global_variables_initializer()"
   ]
  },
  {
   "cell_type": "code",
   "execution_count": 8,
   "metadata": {},
   "outputs": [
    {
     "name": "stdout",
     "output_type": "stream",
     "text": [
      "Epoch:    200 \t Cost:     0.1339 \t W:  0.387 \t b: -0.1606\n",
      "Epoch:    400 \t Cost:      0.112 \t W: 0.3578 \t b: 0.0463\n",
      "Epoch:    600 \t Cost:    0.09849 \t W: 0.3349 \t b: 0.2086\n",
      "Epoch:    800 \t Cost:    0.09019 \t W: 0.3169 \t b: 0.3359\n",
      "Epoch:   1000 \t Cost:    0.08509 \t W: 0.3029 \t b: 0.4357\n",
      "Epoch:   1200 \t Cost:    0.08195 \t W: 0.2918 \t b:  0.514\n",
      "Epoch:   1400 \t Cost:    0.08002 \t W: 0.2831 \t b: 0.5754\n",
      "Epoch:   1600 \t Cost:    0.07883 \t W: 0.2763 \t b: 0.6236\n",
      "Epoch:   1800 \t Cost:     0.0781 \t W:  0.271 \t b: 0.6614\n",
      "Epoch:   2000 \t Cost:    0.07765 \t W: 0.2668 \t b:  0.691\n",
      "Epoch:   2200 \t Cost:    0.07737 \t W: 0.2636 \t b: 0.7143\n",
      "Epoch:   2400 \t Cost:     0.0772 \t W:  0.261 \t b: 0.7325\n",
      "Epoch:   2600 \t Cost:     0.0771 \t W:  0.259 \t b: 0.7468\n",
      "Epoch:   2800 \t Cost:    0.07703 \t W: 0.2574 \t b:  0.758\n",
      "Epoch:   3000 \t Cost:    0.07699 \t W: 0.2561 \t b: 0.7668\n",
      "Epoch:   3200 \t Cost:    0.07697 \t W: 0.2552 \t b: 0.7737\n",
      "Epoch:   3400 \t Cost:    0.07695 \t W: 0.2544 \t b: 0.7791\n",
      "Epoch:   3600 \t Cost:    0.07694 \t W: 0.2538 \t b: 0.7834\n",
      "Epoch:   3800 \t Cost:    0.07694 \t W: 0.2533 \t b: 0.7867\n",
      "Epoch:   4000 \t Cost:    0.07693 \t W:  0.253 \t b: 0.7893\n",
      "\n",
      "Otimização Concluída!\n",
      "Custo Final de Treinamento:  0.07693441  - W Final:  0.2529745  - b Final:  0.7893042 \n",
      "\n"
     ]
    },
    {
     "data": {
      "image/png": "[encoded data removed]",
      "text/plain": [
       "<Figure size 432x288 with 1 Axes>"
      ]
     },
     "metadata": {
      "needs_background": "light"
     },
     "output_type": "display_data"
    },
    {
     "name": "stdout",
     "output_type": "stream",
     "text": [
      "Custo Final em Teste:  0.078021765\n",
      "Diferença média Quadrada Absoluta:  0.0010873526\n"
     ]
    },
    {
     "data": {
      "image/png": "[encoded data removed]",
      "text/plain": [
       "<Figure size 432x288 with 1 Axes>"
      ]
     },
     "metadata": {
      "needs_background": "light"
     },
     "output_type": "display_data"
    }
   ],
   "source": [
    "# Iniciandoas variáveis\n",
    "sess.run(init)\n",
    "\n",
    "# Treinando o modelo - epoch é a passada de treinamento\n",
    "for epoch in range(training_epochs):\n",
    "    \n",
    "    # Otimizador\n",
    "    sess.run(optmizer, feed_dict={x: train_X, y: train_y})\n",
    "    \n",
    "    # Display de cada Epoch\n",
    "    if (epoch+1) % display_step == 0:\n",
    "        c = sess.run(cost, feed_dict={x: train_X, y: train_y})\n",
    "        print('Epoch: {0:6} \\t Cost: {1:10.4} \\t W: {2:6.4} \\t b: {3:6.4}'.format(epoch+1, c, sess.run(w), sess.run(b)))\n",
    "                                                                                                                    \n",
    "# Imprimindo parâmetros finais do modelo\n",
    "print('\\nOtimização Concluída!')\n",
    "training_cost = sess.run(cost, feed_dict={x: train_X, y: train_y})\n",
    "print('Custo Final de Treinamento: ',training_cost, ' - W Final: ', sess.run(w), ' - b Final: ', sess.run(b), '\\n')\n",
    "    \n",
    "# Visualizando resultado\n",
    "plt.plot(train_X, train_y, 'ro', label='Dados Originais')\n",
    "plt.plot(train_X, sess.run(w) * train_X + sess.run(b), label='Linha de Regressão')\n",
    "plt.legend()\n",
    "plt.show()\n",
    "    \n",
    "# Testando modelo\n",
    "testing_cost = sess.run(tf.reduce_sum(tf.square(linear_model - y)) / (2 * test_X.shape[0]), \n",
    "                                         feed_dict={x: test_X, y: test_y})\n",
    "print('Custo Final em Teste: ', testing_cost)\n",
    "print('Diferença média Quadrada Absoluta: ', abs(training_cost - testing_cost))\n",
    "    \n",
    "# Display em Teste\n",
    "plt.plot(test_X, test_y, 'bo', label='Dados de Teste')\n",
    "plt.plot(train_X, sess.run(w) * train_X + sess.run(b), label='Linha de Regressão')\n",
    "plt.legend()\n",
    "plt.show()\n",
    "    \n",
    "sess.close()"
   ]
  }
 ],
 "metadata": {
  "kernelspec": {
   "display_name": "Python 3",
   "language": "python",
   "name": "python3"
  },
  "language_info": {
   "codemirror_mode": {
    "name": "ipython",
    "version": 3
   },
   "file_extension": ".py",
   "mimetype": "text/x-python",
   "name": "python",
   "nbconvert_exporter": "python",
   "pygments_lexer": "ipython3",
   "version": "3.7.6"
  }
 },
 "nbformat": 4,
 "nbformat_minor": 4
}
