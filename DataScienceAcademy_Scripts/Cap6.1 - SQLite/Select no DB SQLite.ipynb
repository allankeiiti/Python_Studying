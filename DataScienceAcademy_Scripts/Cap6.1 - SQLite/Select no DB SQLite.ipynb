{
 "cells": [
  {
   "cell_type": "code",
   "execution_count": 1,
   "metadata": {},
   "outputs": [],
   "source": [
    "import sqlite3\n",
    "import datetime\n",
    "import time\n",
    "import random\n",
    "\n",
    "con = sqlite3.connect('dsa3.db')\n",
    "c = con.cursor()\n",
    "\n",
    "def create_table():\n",
    "    c.execute('CREATE TABLE IF NOT EXISTS produtos('\\\n",
    "              'ID INTEGER PRIMARY KEY AUTOINCREMENT NOT NULL, '\\\n",
    "              'DATE TEXT, '\\\n",
    "              'PROD_NAME TEXT, '\\\n",
    "              'VALOR REAL)')\n",
    "    \n",
    "def data_insert():\n",
    "    c.execute(\"INSERT INTO produtos VALUES(002, '02-05-2016', 'Desk', 130)\")\n",
    "    con.commit()\n",
    "#    c.close()\n",
    "#    con.close()\n",
    "    \n",
    "def data_insert_var(prod, x, y):\n",
    "    new_date = datetime.datetime.now()\n",
    "    new_valor = random.randrange(x, y)\n",
    "    c.execute(\"INSERT INTO produtos (date, prod_name, valor) VALUES (?, ?, ?)\",\n",
    "             (new_date, prod, new_valor))\n",
    "    con.commit()\n",
    "\n",
    "def select_all():\n",
    "    c.execute(\"SELECT * FROM produtos\")\n",
    "    for tuples in c.fetchall():\n",
    "        print(tuples)\n",
    "    \n",
    "def select_registry():\n",
    "    c.execute(\"SELECT * FROM produtos WHERE valor > 60.0\")\n",
    "    for tuples in c.fetchall():\n",
    "        print(tuples)\n",
    "        \n",
    "def select_columns(column_num):\n",
    "    c.execute(\"SELECT * FROM PRODUTOS\")\n",
    "    for tuples in c.fetchall():\n",
    "        print(tuples[column_num])"
   ]
  },
  {
   "cell_type": "code",
   "execution_count": 2,
   "metadata": {},
   "outputs": [],
   "source": [
    "create_table()\n",
    "data_insert_var('Monitor', 50, 100)\n",
    "data_insert_var('Notebook',1000,2000)\n",
    "data_insert_var('SmartPhone', 1000, 3000)\n",
    "data_insert_var('iPhone', 5000, 10000)\n"
   ]
  },
  {
   "cell_type": "code",
   "execution_count": 3,
   "metadata": {},
   "outputs": [
    {
     "name": "stdout",
     "output_type": "stream",
     "text": [
      "(2, '02-05-2016', 'Desk', 130.0)\n",
      "(3, '2019-07-26 23:28:19.617668', 'Monitor', 89.0)\n",
      "(4, '2019-07-26 23:28:19.641670', 'Notebook', 1844.0)\n",
      "(5, '2019-07-26 23:28:19.654664', 'SmartPhone', 2016.0)\n",
      "(6, '2019-07-26 23:28:19.665694', 'iPhone', 7041.0)\n",
      "(7, '2019-07-26 23:29:54.573955', 'Monitor', 97.0)\n",
      "(8, '2019-07-26 23:29:54.590988', 'Notebook', 1380.0)\n",
      "(9, '2019-07-26 23:29:54.603980', 'SmartPhone', 2900.0)\n",
      "(10, '2019-07-26 23:29:54.615949', 'iPhone', 5911.0)\n",
      "(11, '2019-07-26 23:29:54.729939', 'Monitor', 91.0)\n",
      "(12, '2019-07-26 23:29:54.747934', 'Notebook', 1592.0)\n",
      "(13, '2019-07-26 23:29:54.759931', 'SmartPhone', 1065.0)\n",
      "(14, '2019-07-26 23:29:54.770930', 'iPhone', 6649.0)\n",
      "(15, '2019-07-27 00:34:31.760564', 'Monitor', 77.0)\n",
      "(16, '2019-07-27 00:34:31.780560', 'Notebook', 1688.0)\n",
      "(17, '2019-07-27 00:34:31.794560', 'SmartPhone', 2746.0)\n",
      "(18, '2019-07-27 00:34:31.806581', 'iPhone', 5558.0)\n"
     ]
    }
   ],
   "source": [
    "select_all()"
   ]
  },
  {
   "cell_type": "code",
   "execution_count": 4,
   "metadata": {},
   "outputs": [
    {
     "name": "stdout",
     "output_type": "stream",
     "text": [
      "2\n",
      "3\n",
      "4\n",
      "5\n",
      "6\n",
      "7\n",
      "8\n",
      "9\n",
      "10\n",
      "11\n",
      "12\n",
      "13\n",
      "14\n",
      "15\n",
      "16\n",
      "17\n",
      "18\n",
      "---\n",
      "02-05-2016\n",
      "2019-07-26 23:28:19.617668\n",
      "2019-07-26 23:28:19.641670\n",
      "2019-07-26 23:28:19.654664\n",
      "2019-07-26 23:28:19.665694\n",
      "2019-07-26 23:29:54.573955\n",
      "2019-07-26 23:29:54.590988\n",
      "2019-07-26 23:29:54.603980\n",
      "2019-07-26 23:29:54.615949\n",
      "2019-07-26 23:29:54.729939\n",
      "2019-07-26 23:29:54.747934\n",
      "2019-07-26 23:29:54.759931\n",
      "2019-07-26 23:29:54.770930\n",
      "2019-07-27 00:34:31.760564\n",
      "2019-07-27 00:34:31.780560\n",
      "2019-07-27 00:34:31.794560\n",
      "2019-07-27 00:34:31.806581\n",
      "---\n",
      "Desk\n",
      "Monitor\n",
      "Notebook\n",
      "SmartPhone\n",
      "iPhone\n",
      "Monitor\n",
      "Notebook\n",
      "SmartPhone\n",
      "iPhone\n",
      "Monitor\n",
      "Notebook\n",
      "SmartPhone\n",
      "iPhone\n",
      "Monitor\n",
      "Notebook\n",
      "SmartPhone\n",
      "iPhone\n",
      "---\n",
      "130.0\n",
      "89.0\n",
      "1844.0\n",
      "2016.0\n",
      "7041.0\n",
      "97.0\n",
      "1380.0\n",
      "2900.0\n",
      "5911.0\n",
      "91.0\n",
      "1592.0\n",
      "1065.0\n",
      "6649.0\n",
      "77.0\n",
      "1688.0\n",
      "2746.0\n",
      "5558.0\n"
     ]
    }
   ],
   "source": [
    "select_columns(0)\n",
    "print('---')\n",
    "select_columns(1)\n",
    "print('---')\n",
    "select_columns(2)\n",
    "print('---')\n",
    "select_columns(3)"
   ]
  },
  {
   "cell_type": "markdown",
   "metadata": {},
   "source": [
    "## Fim"
   ]
  }
 ],
 "metadata": {
  "kernelspec": {
   "display_name": "Python 3",
   "language": "python",
   "name": "python3"
  },
  "language_info": {
   "codemirror_mode": {
    "name": "ipython",
    "version": 3
   },
   "file_extension": ".py",
   "mimetype": "text/x-python",
   "name": "python",
   "nbconvert_exporter": "python",
   "pygments_lexer": "ipython3",
   "version": "3.7.3"
  }
 },
 "nbformat": 4,
 "nbformat_minor": 2
}
