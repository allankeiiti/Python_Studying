{
 "cells": [
  {
   "cell_type": "code",
   "execution_count": 2,
   "metadata": {},
   "outputs": [],
   "source": [
    "import numpy as np"
   ]
  },
  {
   "cell_type": "code",
   "execution_count": 7,
   "metadata": {},
   "outputs": [
    {
     "name": "stdout",
     "output_type": "stream",
     "text": [
      "Digite um número: 1\n",
      "Digite o número 2: 1\n",
      "Selecione uma operação: +\n",
      "2.0\n"
     ]
    }
   ],
   "source": [
    "operacao = ['*','+', '-', '/']\n",
    "num1 = input('Digite um número: ')\n",
    "num1=float(num1)\n",
    "num2 = input('Digite o número 2: ')\n",
    "num2=float(num2)\n",
    "operacao = input('Selecione uma operação: ')\n",
    "if operacao == '+':\n",
    "                print(num1+num2)\n",
    "elif operacao == '-':\n",
    "                 print(num1-num2)\n",
    "elif operacao == '*':\n",
    "                 print(num1*num2)\n",
    "elif operacao == '/':\n",
    "                 print(num1/num2)\n",
    "else:\n",
    "                 print('NUM É UMA OPERAÇÃO MATEMÁTICA SEU BURRO')\n",
    "                "
   ]
  },
  {
   "cell_type": "code",
   "execution_count": null,
   "metadata": {},
   "outputs": [],
   "source": []
  }
 ],
 "metadata": {
  "kernelspec": {
   "display_name": "Python 3",
   "language": "python",
   "name": "python3"
  },
  "language_info": {
   "codemirror_mode": {
    "name": "ipython",
    "version": 3
   },
   "file_extension": ".py",
   "mimetype": "text/x-python",
   "name": "python",
   "nbconvert_exporter": "python",
   "pygments_lexer": "ipython3",
   "version": "3.7.3"
  }
 },
 "nbformat": 4,
 "nbformat_minor": 2
}
