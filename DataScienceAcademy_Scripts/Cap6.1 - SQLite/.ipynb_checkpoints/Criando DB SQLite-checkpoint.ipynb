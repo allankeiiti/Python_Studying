{
 "cells": [
  {
   "cell_type": "code",
   "execution_count": 1,
   "metadata": {},
   "outputs": [],
   "source": [
    "# Caso o arquivo 'escola.db' exista, o mesmo será removido.\n",
    "from os import remove, path\n",
    "remove(\"escola.db\") if path.exists(\"escola.db\") else None"
   ]
  },
  {
   "cell_type": "code",
   "execution_count": 2,
   "metadata": {},
   "outputs": [],
   "source": [
    "# O SQLite já vem embutido no Anaconda.\n",
    "import sqlite3"
   ]
  },
  {
   "cell_type": "code",
   "execution_count": 3,
   "metadata": {},
   "outputs": [],
   "source": [
    "# Criando uma conexão com o DB SQLite.\n",
    "# Se o banco de dados não existir, ele é criado neste momento\n",
    "con = sqlite3.connect('escola.db')"
   ]
  },
  {
   "cell_type": "code",
   "execution_count": 4,
   "metadata": {},
   "outputs": [
    {
     "data": {
      "text/plain": [
       "sqlite3.Connection"
      ]
     },
     "execution_count": 4,
     "metadata": {},
     "output_type": "execute_result"
    }
   ],
   "source": [
    "type(con)"
   ]
  },
  {
   "cell_type": "code",
   "execution_count": 5,
   "metadata": {},
   "outputs": [],
   "source": [
    "# Criando um cursor (Um cursor permite percorrer todos os registros em um conjunto de dados)\n",
    "cur = con.cursor()"
   ]
  },
  {
   "cell_type": "code",
   "execution_count": 6,
   "metadata": {},
   "outputs": [
    {
     "data": {
      "text/plain": [
       "sqlite3.Cursor"
      ]
     },
     "execution_count": 6,
     "metadata": {},
     "output_type": "execute_result"
    }
   ],
   "source": [
    "type(cur)"
   ]
  },
  {
   "cell_type": "code",
   "execution_count": 7,
   "metadata": {},
   "outputs": [],
   "source": [
    "# Criando uma query SQL\n",
    "sql_create = 'CREATE TABLE cursos '\\\n",
    "'(ID_Curso INTEGER PRIMARY KEY, '\\\n",
    "'TITULO VARCHAR(90), '\\\n",
    "'CATEGORIA VARCHAR(130))'"
   ]
  },
  {
   "cell_type": "code",
   "execution_count": 8,
   "metadata": {},
   "outputs": [
    {
     "data": {
      "text/plain": [
       "<sqlite3.Cursor at 0x1af26cf4a40>"
      ]
     },
     "execution_count": 8,
     "metadata": {},
     "output_type": "execute_result"
    }
   ],
   "source": [
    "cur.execute(sql_create)"
   ]
  },
  {
   "cell_type": "code",
   "execution_count": 9,
   "metadata": {},
   "outputs": [],
   "source": [
    "# Criando query SQL para INSERT\n",
    "sql_insert = 'INSERT INTO cursos VALUES (?, ?, ?)'"
   ]
  },
  {
   "cell_type": "code",
   "execution_count": 10,
   "metadata": {},
   "outputs": [],
   "source": [
    "# Dados\n",
    "recset = [(1000, 'Ciência de Dados', 'Data Science'),\n",
    "          (1001, 'Python com MySQL', 'Data Science'),\n",
    "          (1002, 'Banco de Dados Não Relacional', 'Big Data'),\n",
    "          (1003, 'Banco de Dados Relacional', 'Big Data'),\n",
    "          (1004, 'AngularJS', 'Desenvolvimento'),\n",
    "          (1005, 'Flutter e Dart', 'Mobile'),\n",
    "          (1006, 'Personal Home Pages - PHP', 'Desenvolvimento'),\n",
    "          (1007, 'Swift', 'Mobile')]"
   ]
  },
  {
   "cell_type": "code",
   "execution_count": 11,
   "metadata": {},
   "outputs": [],
   "source": [
    "# Inserindo os registros\n",
    "for dados in recset:\n",
    "    cur.execute(sql_insert, dados)"
   ]
  },
  {
   "cell_type": "code",
   "execution_count": 12,
   "metadata": {},
   "outputs": [],
   "source": [
    "# Grava a transação\n",
    "con.commit()"
   ]
  },
  {
   "cell_type": "code",
   "execution_count": 13,
   "metadata": {},
   "outputs": [],
   "source": [
    "# Criando query SQL para SELECT\n",
    "sql_select = 'SELECT * FROM Cursos'"
   ]
  },
  {
   "cell_type": "code",
   "execution_count": 14,
   "metadata": {},
   "outputs": [],
   "source": [
    "# Seleciona todos os registros e recupera os registros\n",
    "cur.execute(sql_select)\n",
    "dados = cur.fetchall()"
   ]
  },
  {
   "cell_type": "code",
   "execution_count": 15,
   "metadata": {},
   "outputs": [
    {
     "name": "stdout",
     "output_type": "stream",
     "text": [
      "Curso ID: 1000 | Título: Ciência de Dados | Categoria: Data Science \n",
      "\n",
      "Curso ID: 1001 | Título: Python com MySQL | Categoria: Data Science \n",
      "\n",
      "Curso ID: 1002 | Título: Banco de Dados Não Relacional | Categoria: Big Data \n",
      "\n",
      "Curso ID: 1003 | Título: Banco de Dados Relacional | Categoria: Big Data \n",
      "\n",
      "Curso ID: 1004 | Título: AngularJS | Categoria: Desenvolvimento \n",
      "\n",
      "Curso ID: 1005 | Título: Flutter e Dart | Categoria: Mobile \n",
      "\n",
      "Curso ID: 1006 | Título: Personal Home Pages - PHP | Categoria: Desenvolvimento \n",
      "\n",
      "Curso ID: 1007 | Título: Swift | Categoria: Mobile \n",
      "\n"
     ]
    }
   ],
   "source": [
    "# Printa as tuplas\n",
    "for tupla in dados:\n",
    "    print('Curso ID: %d | Título: %s | Categoria: %s \\n' % tupla)"
   ]
  },
  {
   "cell_type": "code",
   "execution_count": 16,
   "metadata": {},
   "outputs": [
    {
     "name": "stdout",
     "output_type": "stream",
     "text": [
      "Curso ID: 1000 | Título: Ciência de Dados | Categoria: Data Science \n",
      "\n",
      "Curso ID: 1001 | Título: Python com MySQL | Categoria: Data Science \n",
      "\n",
      "Curso ID: 1002 | Título: Banco de Dados Não Relacional | Categoria: Big Data \n",
      "\n",
      "Curso ID: 1003 | Título: Banco de Dados Relacional | Categoria: Big Data \n",
      "\n",
      "Curso ID: 1004 | Título: AngularJS | Categoria: Desenvolvimento \n",
      "\n",
      "Curso ID: 1005 | Título: Flutter e Dart | Categoria: Mobile \n",
      "\n",
      "Curso ID: 1006 | Título: Personal Home Pages - PHP | Categoria: Desenvolvimento \n",
      "\n",
      "Curso ID: 1007 | Título: Swift | Categoria: Mobile \n",
      "\n",
      "Curso ID: 1008 | Título: R Fundamentos | Categoria: Análise de Dados \n",
      "\n",
      "Curso ID: 1009 | Título: Machine Learning com Weka | Categoria: Machine Learning \n",
      "\n",
      "Curso ID: 1010 | Título: Redes Neurais Artificiais | Categoria: Inteligência Artificial \n",
      "\n",
      "Curso ID: 1011 | Título: Microsoft Power BI | Categoria: Análise de Dados \n",
      "\n",
      "Curso ID: 1012 | Título: Windows Server 2016 | Categoria: Infraestrutura \n",
      "\n"
     ]
    }
   ],
   "source": [
    "recset = [(1008, 'R Fundamentos', 'Análise de Dados'),\n",
    "          (1009, 'Machine Learning com Weka', 'Machine Learning'),\n",
    "          (1010, 'Redes Neurais Artificiais', 'Inteligência Artificial'),\n",
    "          (1011, 'Microsoft Power BI', 'Análise de Dados'),\n",
    "          (1012, 'Windows Server 2016', 'Infraestrutura')]\n",
    "\n",
    "for dados in recset:\n",
    "    cur.execute(sql_insert, dados)\n",
    "    \n",
    "con.commit()\n",
    "\n",
    "cur.execute(sql_select)\n",
    "dados = cur.fetchall()\n",
    "\n",
    "for tupla in dados:\n",
    "    print('Curso ID: %d | Título: %s | Categoria: %s \\n' % tupla)"
   ]
  },
  {
   "cell_type": "code",
   "execution_count": 17,
   "metadata": {},
   "outputs": [],
   "source": [
    "# Finalizando conexão\n",
    "con.close()"
   ]
  },
  {
   "cell_type": "markdown",
   "metadata": {},
   "source": [
    "## Fim"
   ]
  }
 ],
 "metadata": {
  "kernelspec": {
   "display_name": "Python 3",
   "language": "python",
   "name": "python3"
  },
  "language_info": {
   "codemirror_mode": {
    "name": "ipython",
    "version": 3
   },
   "file_extension": ".py",
   "mimetype": "text/x-python",
   "name": "python",
   "nbconvert_exporter": "python",
   "pygments_lexer": "ipython3",
   "version": "3.7.3"
  }
 },
 "nbformat": 4,
 "nbformat_minor": 2
}
