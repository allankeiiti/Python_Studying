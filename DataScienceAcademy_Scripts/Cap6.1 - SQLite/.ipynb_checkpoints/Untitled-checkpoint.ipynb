{
 "cells": [
  {
   "cell_type": "code",
   "execution_count": 2,
   "metadata": {},
   "outputs": [],
   "source": [
    "import numpy as np"
   ]
  },
  {
   "cell_type": "code",
   "execution_count": 6,
   "metadata": {},
   "outputs": [
    {
     "ename": "SyntaxError",
     "evalue": "EOL while scanning string literal (<ipython-input-6-5a8e930edce7>, line 6)",
     "output_type": "error",
     "traceback": [
      "\u001b[1;36m  File \u001b[1;32m\"<ipython-input-6-5a8e930edce7>\"\u001b[1;36m, line \u001b[1;32m6\u001b[0m\n\u001b[1;33m    operacao = input('Selecione uma operação: '')\u001b[0m\n\u001b[1;37m                                                 ^\u001b[0m\n\u001b[1;31mSyntaxError\u001b[0m\u001b[1;31m:\u001b[0m EOL while scanning string literal\n"
     ]
    }
   ],
   "source": [
    "operacao = ['*','+', '-', '/']\n",
    "num1 = input('Digite um número: ')\n",
    "num1=float(num1)\n",
    "num2 = input('Digite o número 2: ')\n",
    "num2=float(num2)\n",
    "operacao = input('Selecione uma operação: ')\n",
    "if operacao == '+':\n",
    "                print(num1+num2)\n",
    "elif operacao == '-':\n",
    "                 print(num1-num2)\n",
    "elif operacao == '*':\n",
    "                 print(num1*num2)\n",
    "elif operacao == '/':\n",
    "                 print(num1/num2)\n",
    "else:\n",
    "                 print('NUM É UMA OPERAÇÃO MATEMÁTICA SEU BURRO')\n",
    "                "
   ]
  },
  {
   "cell_type": "code",
   "execution_count": null,
   "metadata": {},
   "outputs": [],
   "source": []
  }
 ],
 "metadata": {
  "kernelspec": {
   "display_name": "Python 3",
   "language": "python",
   "name": "python3"
  },
  "language_info": {
   "codemirror_mode": {
    "name": "ipython",
    "version": 3
   },
   "file_extension": ".py",
   "mimetype": "text/x-python",
   "name": "python",
   "nbconvert_exporter": "python",
   "pygments_lexer": "ipython3",
   "version": "3.7.3"
  }
 },
 "nbformat": 4,
 "nbformat_minor": 2
}
