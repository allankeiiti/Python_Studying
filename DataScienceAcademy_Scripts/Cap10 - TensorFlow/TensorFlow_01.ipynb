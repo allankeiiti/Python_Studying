{
 "cells": [
  {
   "cell_type": "code",
   "execution_count": 1,
   "metadata": {},
   "outputs": [
    {
     "name": "stdout",
     "output_type": "stream",
     "text": [
      "2.0.0\n"
     ]
    }
   ],
   "source": [
    "import tensorflow as tf\n",
    "print(tf.__version__)"
   ]
  },
  {
   "cell_type": "code",
   "execution_count": 2,
   "metadata": {},
   "outputs": [],
   "source": [
    "hello = tf.constant('Hello, TensorFlow!')\n",
    "# Segui este link: https://vispud.blogspot.com/2019/05/tensorflow200a0-attributeerror-module.html"
   ]
  },
  {
   "cell_type": "code",
   "execution_count": 3,
   "metadata": {},
   "outputs": [
    {
     "name": "stdout",
     "output_type": "stream",
     "text": [
      "tf.Tensor(b'Hello, TensorFlow!', shape=(), dtype=string)\n"
     ]
    }
   ],
   "source": [
    "print(hello)"
   ]
  },
  {
   "cell_type": "code",
   "execution_count": 4,
   "metadata": {},
   "outputs": [
    {
     "name": "stdout",
     "output_type": "stream",
     "text": [
      "tf.Tensor(2, shape=(), dtype=int32)\n",
      "tf.Tensor(3, shape=(), dtype=int32)\n"
     ]
    }
   ],
   "source": [
    "valor1 = tf.constant(2)\n",
    "valor2 = tf.constant(3)\n",
    "print(valor1)\n",
    "print(valor2)"
   ]
  },
  {
   "cell_type": "code",
   "execution_count": 5,
   "metadata": {},
   "outputs": [
    {
     "name": "stdout",
     "output_type": "stream",
     "text": [
      "<class 'tensorflow.python.framework.ops.EagerTensor'>\n",
      "tf.Tensor(5, shape=(), dtype=int32)\n"
     ]
    }
   ],
   "source": [
    "soma = valor1 + valor2\n",
    "print(type(soma))\n",
    "print(soma)"
   ]
  },
  {
   "cell_type": "code",
   "execution_count": 6,
   "metadata": {},
   "outputs": [
    {
     "name": "stdout",
     "output_type": "stream",
     "text": [
      "b'Hello, TensorFlow!'\n",
      "2\n",
      "3\n",
      "5\n"
     ]
    }
   ],
   "source": [
    "tf.compat.v1.disable_eager_execution()\n",
    "\n",
    "hello = tf.constant('Hello, TensorFlow!')\n",
    "valor1 = tf.constant(2)\n",
    "valor2 = tf.constant(3)\n",
    "soma = valor1 + valor2\n",
    "sess = tf.compat.v1.Session()\n",
    "\n",
    "print(sess.run(hello))\n",
    "print(sess.run(valor1))\n",
    "print(sess.run(valor2))\n",
    "print(sess.run(soma))"
   ]
  },
  {
   "cell_type": "code",
   "execution_count": 7,
   "metadata": {},
   "outputs": [
    {
     "name": "stdout",
     "output_type": "stream",
     "text": [
      "5\n",
      "9\n",
      "14\n"
     ]
    }
   ],
   "source": [
    "node1 = tf.constant(5, dtype=tf.int32)\n",
    "node2 = tf.constant(9, dtype=tf.int32)\n",
    "node3 = tf.add(node1, node2)\n",
    "print(sess.run(node1))\n",
    "print(sess.run(node2))\n",
    "print(sess.run(node3))\n",
    "sess.close()"
   ]
  },
  {
   "cell_type": "code",
   "execution_count": 8,
   "metadata": {},
   "outputs": [],
   "source": [
    "# Iniciando a sessão novamente\n",
    "tf.compat.v1.disable_eager_execution()"
   ]
  },
  {
   "cell_type": "code",
   "execution_count": 9,
   "metadata": {},
   "outputs": [
    {
     "name": "stdout",
     "output_type": "stream",
     "text": [
      "5\n"
     ]
    }
   ],
   "source": [
    "node1 = tf.constant(5, dtype=tf.int32)\n",
    "sess = tf.compat.v1.Session()\n",
    "print(sess.run(node1))"
   ]
  },
  {
   "cell_type": "markdown",
   "metadata": {},
   "source": [
    "# Subtração"
   ]
  },
  {
   "cell_type": "code",
   "execution_count": 11,
   "metadata": {},
   "outputs": [],
   "source": [
    "# Tensores randômicos\n",
    "rand_a = tf.random.normal([3], 2.0)\n",
    "rand_b = tf.random.uniform([3], 1.0, 4.0)"
   ]
  },
  {
   "cell_type": "code",
   "execution_count": 12,
   "metadata": {},
   "outputs": [
    {
     "name": "stdout",
     "output_type": "stream",
     "text": [
      "Tensor(\"random_normal:0\", shape=(3,), dtype=float32)\n",
      "Tensor(\"random_uniform:0\", shape=(3,), dtype=float32)\n"
     ]
    }
   ],
   "source": [
    "print(rand_a)\n",
    "print(rand_b)"
   ]
  },
  {
   "cell_type": "code",
   "execution_count": 13,
   "metadata": {},
   "outputs": [],
   "source": [
    "diff = tf.subtract(rand_a, rand_b)"
   ]
  },
  {
   "cell_type": "code",
   "execution_count": 15,
   "metadata": {},
   "outputs": [
    {
     "name": "stdout",
     "output_type": "stream",
     "text": [
      "Tensor rand_a: [2.4178262  0.36211324 2.523326  ]\n",
      "Tensor rand_b: [3.8074403 1.7405543 1.8637786]\n",
      "Subtração entre os 2 tensores é: [-1.4691207   1.5802298   0.90907586]\n"
     ]
    }
   ],
   "source": [
    "print(f'Tensor rand_a: {sess.run(rand_a)}')\n",
    "print(f'Tensor rand_b: {sess.run(rand_b)}')\n",
    "print(f'Subtração entre os 2 tensores é: {sess.run(diff)}')\n",
    "sess.close()"
   ]
  },
  {
   "cell_type": "markdown",
   "metadata": {},
   "source": [
    "# Divisão"
   ]
  },
  {
   "cell_type": "code",
   "execution_count": 17,
   "metadata": {},
   "outputs": [],
   "source": [
    "tf.compat.v1.disable_eager_execution()\n",
    "sess = tf.compat.v1.Session()\n",
    "node1 = tf.constant(21, dtype=tf.int32)\n",
    "node2 = tf.constant(7, dtype=tf.int32)\n",
    "div = node1 / node2"
   ]
  },
  {
   "cell_type": "code",
   "execution_count": 18,
   "metadata": {},
   "outputs": [
    {
     "name": "stdout",
     "output_type": "stream",
     "text": [
      "3.0\n"
     ]
    }
   ],
   "source": [
    "print(sess.run(div))"
   ]
  },
  {
   "cell_type": "code",
   "execution_count": 19,
   "metadata": {},
   "outputs": [],
   "source": [
    "sess.close()"
   ]
  },
  {
   "cell_type": "markdown",
   "metadata": {},
   "source": [
    "# Multiplicação"
   ]
  },
  {
   "cell_type": "code",
   "execution_count": 20,
   "metadata": {},
   "outputs": [
    {
     "name": "stdout",
     "output_type": "stream",
     "text": [
      "[[4. 2.]]\n",
      "[[3.]\n",
      " [7.]]\n"
     ]
    }
   ],
   "source": [
    "# O grande desafio é alimentar os tensores com os dados para criação dos Modelos\n",
    "tf.compat.v1.disable_eager_execution()\n",
    "sess = tf.compat.v1.Session()\n",
    "tensor_a = tf.constant([[4., 2.]])\n",
    "tensor_b = tf.constant([[3.], [7.]])\n",
    "print(sess.run(tensor_a))\n",
    "print(sess.run(tensor_b))"
   ]
  },
  {
   "cell_type": "code",
   "execution_count": 21,
   "metadata": {},
   "outputs": [],
   "source": [
    "# Multiplicação Element-Wise\n",
    "prod = tf.multiply(tensor_a, tensor_b)"
   ]
  },
  {
   "cell_type": "code",
   "execution_count": 22,
   "metadata": {},
   "outputs": [
    {
     "name": "stdout",
     "output_type": "stream",
     "text": [
      "[[12.  6.]\n",
      " [28. 14.]]\n"
     ]
    }
   ],
   "source": [
    "print(sess.run(prod))"
   ]
  },
  {
   "cell_type": "code",
   "execution_count": 24,
   "metadata": {},
   "outputs": [
    {
     "name": "stdout",
     "output_type": "stream",
     "text": [
      "\n",
      " mat_a: \n",
      " [[2 3]\n",
      " [9 2]\n",
      " [4 5]]\n",
      "\n",
      " mat_b: \n",
      " [[6 4 5]\n",
      " [3 7 2]]\n",
      "\n",
      " mat_prod: \n",
      " [[21 29 16]\n",
      " [60 50 49]\n",
      " [39 51 30]]\n"
     ]
    }
   ],
   "source": [
    "# Multiplicação Mat-mul\n",
    "# Mat-Mul -> Shape possui a qnt. de linhas da primeira matriz e  qnt. de colunas da segunda matriz\n",
    "mat_a = tf.constant([[2, 3], [9, 2], [4, 5]])\n",
    "mat_b = tf.constant([[6, 4, 5], [3, 7, 2]])\n",
    "print('\\n mat_a: \\n', sess.run(mat_a))\n",
    "print('\\n mat_b: \\n', sess.run(mat_b))\n",
    "mat_prod = tf.matmul(mat_a, mat_b)\n",
    "print('\\n mat_prod: \\n', sess.run(mat_prod))"
   ]
  },
  {
   "cell_type": "code",
   "execution_count": 27,
   "metadata": {},
   "outputs": [
    {
     "name": "stdout",
     "output_type": "stream",
     "text": [
      "\n",
      " mat_a: \n",
      " [[2]\n",
      " [9]\n",
      " [4]]\n",
      "\n",
      " mat_b: \n",
      " [[6 4 5]]\n",
      "\n",
      " mat_prod: \n",
      " [[12  8 10]\n",
      " [54 36 45]\n",
      " [24 16 20]]\n"
     ]
    }
   ],
   "source": [
    "mat_a = tf.constant([[2], [9], [4]])\n",
    "mat_b = tf.constant([[6, 4, 5]])\n",
    "print('\\n mat_a: \\n', sess.run(mat_a))\n",
    "print('\\n mat_b: \\n', sess.run(mat_b))\n",
    "mat_prod = tf.matmul(mat_a, mat_b)\n",
    "print('\\n mat_prod: \\n', sess.run(mat_prod))"
   ]
  },
  {
   "cell_type": "code",
   "execution_count": 28,
   "metadata": {},
   "outputs": [
    {
     "data": {
      "image/png": "[encoded data removed]",
      "text/plain": [
       "<IPython.core.display.Image object>"
      ]
     },
     "execution_count": 28,
     "metadata": {},
     "output_type": "execute_result"
    }
   ],
   "source": [
    "from IPython.display import Image\n",
    "Image('explica_matmul.png')"
   ]
  },
  {
   "cell_type": "code",
   "execution_count": null,
   "metadata": {},
   "outputs": [],
   "source": []
  }
 ],
 "metadata": {
  "kernelspec": {
   "display_name": "Python 3",
   "language": "python",
   "name": "python3"
  },
  "language_info": {
   "codemirror_mode": {
    "name": "ipython",
    "version": 3
   },
   "file_extension": ".py",
   "mimetype": "text/x-python",
   "name": "python",
   "nbconvert_exporter": "python",
   "pygments_lexer": "ipython3",
   "version": "3.7.6"
  }
 },
 "nbformat": 4,
 "nbformat_minor": 4
}
