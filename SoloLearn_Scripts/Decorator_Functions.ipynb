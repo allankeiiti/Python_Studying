{
 "cells": [
  {
   "cell_type": "markdown",
   "metadata": {},
   "source": [
    "# Decorator Functions"
   ]
  },
  {
   "cell_type": "code",
   "execution_count": 1,
   "metadata": {},
   "outputs": [
    {
     "name": "stdout",
     "output_type": "stream",
     "text": [
      "Antes da função funcao\n",
      "Wiiii\n",
      "Depois da função funcao\n"
     ]
    }
   ],
   "source": [
    "def meu_decorator(funcao):\n",
    "    def wrapper():\n",
    "        print('Antes da função funcao')\n",
    "        funcao()\n",
    "        print('Depois da função funcao')\n",
    "    #return wrapper\n",
    "    wrapper()\n",
    "\n",
    "def diga_wii():\n",
    "    print('Wiiii')\n",
    "    \n",
    "diga_wii = meu_decorator(diga_wii)"
   ]
  },
  {
   "cell_type": "code",
   "execution_count": 12,
   "metadata": {},
   "outputs": [],
   "source": [
    "from datetime import datetime\n",
    "\n",
    "def nao_durante_a_noite(func):\n",
    "    def wrapper():\n",
    "        if 7 <= datetime.now().hour < 22:\n",
    "            func()\n",
    "        else:\n",
    "            pass\n",
    "    # return wrapper\n",
    "    wrapper()\n",
    "\n",
    "def grite():\n",
    "    print('AAAAAAAA')"
   ]
  },
  {
   "cell_type": "code",
   "execution_count": 13,
   "metadata": {},
   "outputs": [
    {
     "name": "stdout",
     "output_type": "stream",
     "text": [
      "AAAAAAAA\n",
      "19\n"
     ]
    }
   ],
   "source": [
    "grite = nao_durante_a_noite(grite)\n",
    "print(datetime.now().hour)"
   ]
  },
  {
   "cell_type": "code",
   "execution_count": 14,
   "metadata": {},
   "outputs": [
    {
     "name": "stdout",
     "output_type": "stream",
     "text": [
      "Antes da função\n",
      "Wiiiii\n",
      "Depois da função\n"
     ]
    }
   ],
   "source": [
    "# Python permite usar decorators com o símbolo '@'\n",
    "def meu_decorator(func):\n",
    "    def wrapper():\n",
    "        print('Antes da função')\n",
    "        func()\n",
    "        print('Depois da função')\n",
    "    # return wrapper\n",
    "    wrapper()\n",
    "\n",
    "@meu_decorator\n",
    "def diga_wii():\n",
    "    print('Wiiiii')"
   ]
  }
 ],
 "metadata": {
  "kernelspec": {
   "display_name": "Python 3",
   "language": "python",
   "name": "python3"
  },
  "language_info": {
   "codemirror_mode": {
    "name": "ipython",
    "version": 3
   },
   "file_extension": ".py",
   "mimetype": "text/x-python",
   "name": "python",
   "nbconvert_exporter": "python",
   "pygments_lexer": "ipython3",
   "version": "3.7.3"
  }
 },
 "nbformat": 4,
 "nbformat_minor": 2
}
