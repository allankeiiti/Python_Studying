{
 "cells": [
  {
   "cell_type": "markdown",
   "metadata": {},
   "source": [
    "# NamedTuple"
   ]
  },
  {
   "cell_type": "code",
   "execution_count": 1,
   "metadata": {},
   "outputs": [],
   "source": [
    "# É necessário importar collections\n",
    "from collections import namedtuple"
   ]
  },
  {
   "cell_type": "code",
   "execution_count": 2,
   "metadata": {},
   "outputs": [],
   "source": [
    "Pessoa = namedtuple('Pessoa', 'Nome Idade Genero')"
   ]
  },
  {
   "cell_type": "code",
   "execution_count": 3,
   "metadata": {},
   "outputs": [
    {
     "data": {
      "text/plain": [
       "type"
      ]
     },
     "execution_count": 3,
     "metadata": {},
     "output_type": "execute_result"
    }
   ],
   "source": [
    "type(Pessoa)"
   ]
  },
  {
   "cell_type": "code",
   "execution_count": 4,
   "metadata": {},
   "outputs": [],
   "source": [
    "bob = Pessoa(Nome = 'Bob', Idade = '24', Genero = 'Masculino')\n",
    "Cintia = Pessoa(Nome = 'Cintia', Idade = '20', Genero = 'Feminino')"
   ]
  },
  {
   "cell_type": "code",
   "execution_count": 5,
   "metadata": {},
   "outputs": [
    {
     "name": "stdout",
     "output_type": "stream",
     "text": [
      "Representação:\n",
      " Pessoa(Nome='Bob', Idade='24', Genero='Masculino')\n",
      "Representação:\n",
      " Pessoa(Nome='Cintia', Idade='20', Genero='Feminino')\n"
     ]
    }
   ],
   "source": [
    "print('Representação:\\n', bob)\n",
    "print('Representação:\\n', Cintia)"
   ]
  },
  {
   "cell_type": "code",
   "execution_count": 6,
   "metadata": {},
   "outputs": [
    {
     "name": "stdout",
     "output_type": "stream",
     "text": [
      "Bob é uma pessoa com 24 anos de idade e é do genero Masculino\n",
      "Cintia é uma pessoa com 20 anos de idade e é do genero Feminino\n"
     ]
    }
   ],
   "source": [
    "# Campos por índice\n",
    "for pessoa in [bob, Cintia]:\n",
    "    print('%s é uma pessoa com %s anos de idade e é do genero %s' % pessoa)"
   ]
  }
 ],
 "metadata": {
  "kernelspec": {
   "display_name": "Python 3",
   "language": "python",
   "name": "python3"
  },
  "language_info": {
   "codemirror_mode": {
    "name": "ipython",
    "version": 3
   },
   "file_extension": ".py",
   "mimetype": "text/x-python",
   "name": "python",
   "nbconvert_exporter": "python",
   "pygments_lexer": "ipython3",
   "version": "3.7.3"
  }
 },
 "nbformat": 4,
 "nbformat_minor": 2
}
