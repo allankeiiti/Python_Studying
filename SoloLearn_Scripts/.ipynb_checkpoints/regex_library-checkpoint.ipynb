{
 "cells": [
  {
   "cell_type": "code",
   "execution_count": 1,
   "metadata": {},
   "outputs": [],
   "source": [
    "import re"
   ]
  },
  {
   "cell_type": "code",
   "execution_count": 11,
   "metadata": {},
   "outputs": [
    {
     "name": "stdout",
     "output_type": "stream",
     "text": [
      "No Match\n",
      "Match\n",
      "No Match\n"
     ]
    }
   ],
   "source": [
    "# Criando um padrão\n",
    "pattern = r\"spider\"\n",
    "\n",
    "lista = ['Ferrari spider', 'spiderman', 'Spyder']\n",
    "\n",
    "for strng in lista:\n",
    "    if re.match(pattern, strng):\n",
    "        print(\"Match\")\n",
    "    else:\n",
    "        print('No Match')"
   ]
  },
  {
   "cell_type": "code",
   "execution_count": 12,
   "metadata": {},
   "outputs": [
    {
     "name": "stdout",
     "output_type": "stream",
     "text": [
      "Match\n",
      "Match\n",
      "No Match\n"
     ]
    }
   ],
   "source": [
    "# O search procura o padrão dentro da string\n",
    "for strng in lista:\n",
    "    if re.search(pattern, strng):\n",
    "        print(\"Match\")\n",
    "    else:\n",
    "        print('No Match')"
   ]
  },
  {
   "cell_type": "code",
   "execution_count": 13,
   "metadata": {},
   "outputs": [
    {
     "name": "stdout",
     "output_type": "stream",
     "text": [
      "['spider']\n",
      "['spider']\n",
      "[]\n"
     ]
    }
   ],
   "source": [
    "for strng in lista:\n",
    "    print(re.findall(pattern, strng))"
   ]
  },
  {
   "cell_type": "code",
   "execution_count": 14,
   "metadata": {},
   "outputs": [
    {
     "name": "stdout",
     "output_type": "stream",
     "text": [
      "['sp']\n",
      "[]\n",
      "['sp']\n"
     ]
    }
   ],
   "source": [
    "lista = ['Ferrari spider', 'Spiderman', 'spyder']\n",
    "pattern = r\"sp\"\n",
    "for strng in lista:\n",
    "    print(re.findall(pattern, strng))"
   ]
  },
  {
   "cell_type": "markdown",
   "metadata": {},
   "source": [
    "### É visível que o re.search, re.match e re.findall são case-sensitive"
   ]
  },
  {
   "cell_type": "code",
   "execution_count": 16,
   "metadata": {},
   "outputs": [
    {
     "name": "stdout",
     "output_type": "stream",
     "text": [
      "['sp']\n",
      "['sp']\n",
      "['sp']\n"
     ]
    }
   ],
   "source": [
    "for strng in lista:\n",
    "    print(re.findall(pattern, strng.lower()))"
   ]
  },
  {
   "cell_type": "markdown",
   "metadata": {},
   "source": [
    "# .group()  - .start() - .end() - .span()"
   ]
  },
  {
   "cell_type": "code",
   "execution_count": 18,
   "metadata": {},
   "outputs": [
    {
     "name": "stdout",
     "output_type": "stream",
     "text": [
      "pam\n",
      "4\n",
      "7\n",
      "(4, 7)\n"
     ]
    }
   ],
   "source": [
    "pattern = r\"pam\"\n",
    "match = re.search(pattern, \"eggspamsausage\")\n",
    "if match:\n",
    "    print(match.group()) # Imprime a String que casa com o padrão\n",
    "    print(match.start()) # Imprime a posição onde inicia a String que casa com o padrão\n",
    "    print(match.end())   # Imprime a posição onde termina a String que casa com o padrão\n",
    "    print(match.span())  # Imprime a posição onde inicia e termina a String que casa com o padrão"
   ]
  },
  {
   "cell_type": "markdown",
   "metadata": {},
   "source": [
    "# Search & Replace"
   ]
  },
  {
   "cell_type": "code",
   "execution_count": 21,
   "metadata": {},
   "outputs": [
    {
     "name": "stdout",
     "output_type": "stream",
     "text": [
      "Meu nome é Peter Parker. Olá Peter Parker! -> Meu nome é Peter B. Parker. Olá Peter B. Parker!\n"
     ]
    }
   ],
   "source": [
    "str = \"Meu nome é Peter Parker. Olá Peter Parker!\"\n",
    "pattern = r'Peter Parker'\n",
    "novo_str = re.sub(pattern, \"Peter B. Parker\", str)\n",
    "print('{} -> {}'.format(str, novo_str))"
   ]
  },
  {
   "cell_type": "markdown",
   "metadata": {},
   "source": [
    "# Character Classes"
   ]
  },
  {
   "cell_type": "code",
   "execution_count": 5,
   "metadata": {},
   "outputs": [
    {
     "name": "stdout",
     "output_type": "stream",
     "text": [
      "Match 1\n",
      "Match 2\n"
     ]
    }
   ],
   "source": [
    "import re\n",
    "\n",
    "# O padrão é uma lista, caso a string tenha uma das letras, ocorre o match\n",
    "\n",
    "pattern = r\"[aeiou]\"\n",
    "if re.search(pattern, \"grey\"):\n",
    "    print(\"Match 1\")\n",
    "if re.search(pattern, \"qwertyuiop\"):\n",
    "    print(\"Match 2\")\n",
    "if re.search(pattern, \"rhythm myths\"):\n",
    "    print(\"Match 3\")"
   ]
  },
  {
   "cell_type": "code",
   "execution_count": 10,
   "metadata": {},
   "outputs": [
    {
     "name": "stdout",
     "output_type": "stream",
     "text": [
      "Match 1\n",
      "Match 2\n"
     ]
    }
   ],
   "source": [
    "# Padrões podem ser utilizados para range de caracteres [a-z] lowercase [A-Z] Uppercase [0-9] Digito numérico\n",
    "\n",
    "pattern = r\"[A-Z][A-Z][0-9]\"\n",
    "\n",
    "if re.search(pattern, \"LS8\"):\n",
    "    print(\"Match 1\")\n",
    "if re.search(pattern, \"EA3\"):\n",
    "    print(\"Match 2\")\n",
    "if re.search(pattern, \"1ab\"):\n",
    "    print(\"Match 3\")"
   ]
  },
  {
   "cell_type": "code",
   "execution_count": 11,
   "metadata": {},
   "outputs": [
    {
     "name": "stdout",
     "output_type": "stream",
     "text": [
      "Match 1\n",
      "Match 2\n"
     ]
    }
   ],
   "source": [
    "pattern = r\"[^A-Z]\"\n",
    "\n",
    "if re.search(pattern, \"this is all quiet\"):\n",
    "    print(\"Match 1\")\n",
    "if re.search(pattern, \"AbCdEfG123\"):\n",
    "    print(\"Match 2\")\n",
    "if re.search(pattern, \"THISISALLSHOUTING\"):\n",
    "    print(\"Match 3\")"
   ]
  },
  {
   "cell_type": "code",
   "execution_count": null,
   "metadata": {},
   "outputs": [],
   "source": []
  }
 ],
 "metadata": {
  "kernelspec": {
   "display_name": "Python 3",
   "language": "python",
   "name": "python3"
  },
  "language_info": {
   "codemirror_mode": {
    "name": "ipython",
    "version": 3
   },
   "file_extension": ".py",
   "mimetype": "text/x-python",
   "name": "python",
   "nbconvert_exporter": "python",
   "pygments_lexer": "ipython3",
   "version": "3.7.3"
  }
 },
 "nbformat": 4,
 "nbformat_minor": 2
}
