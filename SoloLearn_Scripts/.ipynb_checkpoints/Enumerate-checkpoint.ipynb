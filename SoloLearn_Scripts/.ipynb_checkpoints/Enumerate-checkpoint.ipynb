{
 "cells": [
  {
   "cell_type": "markdown",
   "metadata": {},
   "source": [
    "# Enumerate"
   ]
  },
  {
   "cell_type": "code",
   "execution_count": 2,
   "metadata": {},
   "outputs": [],
   "source": [
    "seq = ['a', 'b', 'c']"
   ]
  },
  {
   "cell_type": "code",
   "execution_count": 3,
   "metadata": {},
   "outputs": [],
   "source": [
    "seq2 = [x * 10 for x in range(50)]"
   ]
  },
  {
   "cell_type": "code",
   "execution_count": 4,
   "metadata": {},
   "outputs": [
    {
     "data": {
      "text/plain": [
       "<enumerate at 0x2339991cd80>"
      ]
     },
     "execution_count": 4,
     "metadata": {},
     "output_type": "execute_result"
    }
   ],
   "source": [
    "enumerate(seq)\n",
    "enumerate(seq2)"
   ]
  },
  {
   "cell_type": "code",
   "execution_count": 5,
   "metadata": {},
   "outputs": [
    {
     "data": {
      "text/plain": [
       "[(0, 'a'), (1, 'b'), (2, 'c')]"
      ]
     },
     "execution_count": 5,
     "metadata": {},
     "output_type": "execute_result"
    }
   ],
   "source": [
    "list(enumerate(seq))"
   ]
  },
  {
   "cell_type": "code",
   "execution_count": 6,
   "metadata": {},
   "outputs": [
    {
     "data": {
      "text/plain": [
       "[(0, 0),\n",
       " (1, 10),\n",
       " (2, 20),\n",
       " (3, 30),\n",
       " (4, 40),\n",
       " (5, 50),\n",
       " (6, 60),\n",
       " (7, 70),\n",
       " (8, 80),\n",
       " (9, 90),\n",
       " (10, 100),\n",
       " (11, 110),\n",
       " (12, 120),\n",
       " (13, 130),\n",
       " (14, 140),\n",
       " (15, 150),\n",
       " (16, 160),\n",
       " (17, 170),\n",
       " (18, 180),\n",
       " (19, 190),\n",
       " (20, 200),\n",
       " (21, 210),\n",
       " (22, 220),\n",
       " (23, 230),\n",
       " (24, 240),\n",
       " (25, 250),\n",
       " (26, 260),\n",
       " (27, 270),\n",
       " (28, 280),\n",
       " (29, 290),\n",
       " (30, 300),\n",
       " (31, 310),\n",
       " (32, 320),\n",
       " (33, 330),\n",
       " (34, 340),\n",
       " (35, 350),\n",
       " (36, 360),\n",
       " (37, 370),\n",
       " (38, 380),\n",
       " (39, 390),\n",
       " (40, 400),\n",
       " (41, 410),\n",
       " (42, 420),\n",
       " (43, 430),\n",
       " (44, 440),\n",
       " (45, 450),\n",
       " (46, 460),\n",
       " (47, 470),\n",
       " (48, 480),\n",
       " (49, 490)]"
      ]
     },
     "execution_count": 6,
     "metadata": {},
     "output_type": "execute_result"
    }
   ],
   "source": [
    "list(enumerate(seq2))"
   ]
  },
  {
   "cell_type": "code",
   "execution_count": 7,
   "metadata": {},
   "outputs": [],
   "source": [
    "seq3 = []\n",
    "for indice, valor in enumerate(seq2):\n",
    "    if indice % 2 == 0:\n",
    "        pass\n",
    "    else:\n",
    "        seq3.append(valor)"
   ]
  },
  {
   "cell_type": "code",
   "execution_count": 8,
   "metadata": {},
   "outputs": [
    {
     "data": {
      "text/plain": [
       "[10,\n",
       " 30,\n",
       " 50,\n",
       " 70,\n",
       " 90,\n",
       " 110,\n",
       " 130,\n",
       " 150,\n",
       " 170,\n",
       " 190,\n",
       " 210,\n",
       " 230,\n",
       " 250,\n",
       " 270,\n",
       " 290,\n",
       " 310,\n",
       " 330,\n",
       " 350,\n",
       " 370,\n",
       " 390,\n",
       " 410,\n",
       " 430,\n",
       " 450,\n",
       " 470,\n",
       " 490]"
      ]
     },
     "execution_count": 8,
     "metadata": {},
     "output_type": "execute_result"
    }
   ],
   "source": [
    "seq3"
   ]
  },
  {
   "cell_type": "code",
   "execution_count": null,
   "metadata": {},
   "outputs": [],
   "source": []
  }
 ],
 "metadata": {
  "kernelspec": {
   "display_name": "Python 3",
   "language": "python",
   "name": "python3"
  }
 },
 "nbformat": 4,
 "nbformat_minor": 2
}
