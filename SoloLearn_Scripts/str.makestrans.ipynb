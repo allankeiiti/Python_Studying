{
 "cells": [
  {
   "cell_type": "code",
   "execution_count": 1,
   "metadata": {},
   "outputs": [],
   "source": [
    "purge_full = str.maketrans(dict.fromkeys(\"/*-+.,!@#$%¨&)'(_}{`^?:><;~][´=-¹²³£¢¬§ªº°\"))\n",
    "purge_zero = str.maketrans(dict.fromkeys('0'))"
   ]
  },
  {
   "cell_type": "code",
   "execution_count": 2,
   "metadata": {},
   "outputs": [
    {
     "data": {
      "text/plain": [
       "{47: None,\n",
       " 42: None,\n",
       " 45: None,\n",
       " 43: None,\n",
       " 46: None,\n",
       " 44: None,\n",
       " 33: None,\n",
       " 64: None,\n",
       " 35: None,\n",
       " 36: None,\n",
       " 37: None,\n",
       " 168: None,\n",
       " 38: None,\n",
       " 41: None,\n",
       " 39: None,\n",
       " 40: None,\n",
       " 95: None,\n",
       " 125: None,\n",
       " 123: None,\n",
       " 96: None,\n",
       " 94: None,\n",
       " 63: None,\n",
       " 58: None,\n",
       " 62: None,\n",
       " 60: None,\n",
       " 59: None,\n",
       " 126: None,\n",
       " 93: None,\n",
       " 91: None,\n",
       " 180: None,\n",
       " 61: None,\n",
       " 185: None,\n",
       " 178: None,\n",
       " 179: None,\n",
       " 163: None,\n",
       " 162: None,\n",
       " 172: None,\n",
       " 167: None,\n",
       " 170: None,\n",
       " 186: None,\n",
       " 176: None}"
      ]
     },
     "execution_count": 2,
     "metadata": {},
     "output_type": "execute_result"
    }
   ],
   "source": [
    "purge_full"
   ]
  },
  {
   "cell_type": "code",
   "execution_count": 3,
   "metadata": {},
   "outputs": [
    {
     "data": {
      "text/plain": [
       "{48: None}"
      ]
     },
     "execution_count": 3,
     "metadata": {},
     "output_type": "execute_result"
    }
   ],
   "source": [
    "purge_zero"
   ]
  },
  {
   "cell_type": "code",
   "execution_count": 4,
   "metadata": {},
   "outputs": [
    {
     "name": "stdout",
     "output_type": "stream",
     "text": [
      "{'a': None, 'e': None, 'i': None, 'o': None, 'u': None}\n",
      "{97: None, 101: None, 105: None, 111: None, 117: None}\n",
      "ths s strng xmpl....ww!!!\n"
     ]
    }
   ],
   "source": [
    "intab = dict.fromkeys(\"aeiou\")\n",
    "trantab = str.maketrans(intab)\n",
    "print(intab)\n",
    "print(trantab)\n",
    "str = \"this is string example....wow!!!\";\n",
    "print(str.translate(trantab))"
   ]
  }
 ],
 "metadata": {
  "kernelspec": {
   "display_name": "Python 3",
   "language": "python",
   "name": "python3"
  },
  "language_info": {
   "codemirror_mode": {
    "name": "ipython",
    "version": 3
   },
   "file_extension": ".py",
   "mimetype": "text/x-python",
   "name": "python",
   "nbconvert_exporter": "python",
   "pygments_lexer": "ipython3",
   "version": "3.7.2"
  }
 },
 "nbformat": 4,
 "nbformat_minor": 2
}
