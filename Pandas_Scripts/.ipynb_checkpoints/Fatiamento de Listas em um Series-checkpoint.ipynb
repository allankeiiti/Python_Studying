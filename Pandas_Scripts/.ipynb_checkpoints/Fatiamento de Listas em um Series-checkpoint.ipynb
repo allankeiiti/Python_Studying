{
 "cells": [
  {
   "cell_type": "code",
   "execution_count": 1,
   "metadata": {},
   "outputs": [],
   "source": [
    "import pandas as pd\n",
    "\n",
    "# Definindo dicionário para gerar o DataFrame\n",
    "data = {'Name':['Jai', 'Princi', 'Gaurav', 'Anuj']}"
   ]
  },
  {
   "cell_type": "code",
   "execution_count": 2,
   "metadata": {},
   "outputs": [
    {
     "data": {
      "text/plain": [
       "{'Name': ['Jai', 'Princi', 'Gaurav', 'Anuj']}"
      ]
     },
     "execution_count": 2,
     "metadata": {},
     "output_type": "execute_result"
    }
   ],
   "source": [
    "data"
   ]
  },
  {
   "cell_type": "code",
   "execution_count": 3,
   "metadata": {},
   "outputs": [],
   "source": [
    "data['Age'] = [10, 10, 22, 21]"
   ]
  },
  {
   "cell_type": "code",
   "execution_count": 4,
   "metadata": {},
   "outputs": [
    {
     "data": {
      "text/plain": [
       "{'Name': ['Jai', 'Princi', 'Gaurav', 'Anuj'], 'Age': [10, 10, 22, 21]}"
      ]
     },
     "execution_count": 4,
     "metadata": {},
     "output_type": "execute_result"
    }
   ],
   "source": [
    "data"
   ]
  },
  {
   "cell_type": "code",
   "execution_count": 5,
   "metadata": {},
   "outputs": [],
   "source": [
    "data['Endereco'] = ['Casa x123 allan@email.com',\n",
    "                    'Apartamento aaa@asds.com.br',\n",
    "                    'akdaskdl@sssd.com',\n",
    "                    'TESTE @@@gmail.com']"
   ]
  },
  {
   "cell_type": "code",
   "execution_count": 6,
   "metadata": {},
   "outputs": [
    {
     "data": {
      "text/plain": [
       "{'Name': ['Jai', 'Princi', 'Gaurav', 'Anuj'],\n",
       " 'Age': [10, 10, 22, 21],\n",
       " 'Endereco': ['Casa x123 allan@email.com',\n",
       "  'Apartamento aaa@asds.com.br',\n",
       "  'akdaskdl@sssd.com',\n",
       "  'TESTE @@@gmail.com']}"
      ]
     },
     "execution_count": 6,
     "metadata": {},
     "output_type": "execute_result"
    }
   ],
   "source": [
    "data"
   ]
  },
  {
   "cell_type": "code",
   "execution_count": 7,
   "metadata": {},
   "outputs": [
    {
     "name": "stdout",
     "output_type": "stream",
     "text": [
      "     Name  Age                     Endereco\n",
      "0     Jai   10    Casa x123 allan@email.com\n",
      "1  Princi   10  Apartamento aaa@asds.com.br\n",
      "2  Gaurav   22            akdaskdl@sssd.com\n",
      "3    Anuj   21           TESTE @@@gmail.com\n"
     ]
    }
   ],
   "source": [
    "df = pd.DataFrame(data)\n",
    "\n",
    "print(df)"
   ]
  },
  {
   "cell_type": "code",
   "execution_count": 8,
   "metadata": {},
   "outputs": [
    {
     "data": {
      "text/plain": [
       "0      moc.liame@nalla 321x asaC\n",
       "1    rb.moc.sdsa@aaa otnematrapA\n",
       "2              moc.dsss@ldksadka\n",
       "3             moc.liamg@@@ ETSET\n",
       "Name: Endereco, dtype: object"
      ]
     },
     "execution_count": 8,
     "metadata": {},
     "output_type": "execute_result"
    }
   ],
   "source": [
    "# Invertendo valores String do DataFrame\n",
    "df['Endereco'].str[::-1]"
   ]
  },
  {
   "cell_type": "code",
   "execution_count": 9,
   "metadata": {},
   "outputs": [],
   "source": [
    "df['Endereco'] = df['Endereco'].str[::-1]"
   ]
  },
  {
   "cell_type": "code",
   "execution_count": 10,
   "metadata": {},
   "outputs": [
    {
     "data": {
      "text/html": [
       "<div>\n",
       "<style scoped>\n",
       "    .dataframe tbody tr th:only-of-type {\n",
       "        vertical-align: middle;\n",
       "    }\n",
       "\n",
       "    .dataframe tbody tr th {\n",
       "        vertical-align: top;\n",
       "    }\n",
       "\n",
       "    .dataframe thead th {\n",
       "        text-align: right;\n",
       "    }\n",
       "</style>\n",
       "<table border=\"1\" class=\"dataframe\">\n",
       "  <thead>\n",
       "    <tr style=\"text-align: right;\">\n",
       "      <th></th>\n",
       "      <th>0</th>\n",
       "      <th>1</th>\n",
       "      <th>2</th>\n",
       "    </tr>\n",
       "  </thead>\n",
       "  <tbody>\n",
       "    <tr>\n",
       "      <th>0</th>\n",
       "      <td>moc.liame@nalla</td>\n",
       "      <td>321x</td>\n",
       "      <td>asaC</td>\n",
       "    </tr>\n",
       "    <tr>\n",
       "      <th>1</th>\n",
       "      <td>rb.moc.sdsa@aaa</td>\n",
       "      <td>otnematrapA</td>\n",
       "      <td>None</td>\n",
       "    </tr>\n",
       "    <tr>\n",
       "      <th>2</th>\n",
       "      <td>moc.dsss@ldksadka</td>\n",
       "      <td>None</td>\n",
       "      <td>None</td>\n",
       "    </tr>\n",
       "    <tr>\n",
       "      <th>3</th>\n",
       "      <td>moc.liamg@@@</td>\n",
       "      <td>ETSET</td>\n",
       "      <td>None</td>\n",
       "    </tr>\n",
       "  </tbody>\n",
       "</table>\n",
       "</div>"
      ],
      "text/plain": [
       "                   0            1     2\n",
       "0    moc.liame@nalla         321x  asaC\n",
       "1    rb.moc.sdsa@aaa  otnematrapA  None\n",
       "2  moc.dsss@ldksadka         None  None\n",
       "3       moc.liamg@@@        ETSET  None"
      ]
     },
     "execution_count": 10,
     "metadata": {},
     "output_type": "execute_result"
    }
   ],
   "source": [
    "# o parâmetro N equivale à quantidade de colunas que será fatiada quando expand for True\n",
    "df['Endereco'].str.split(' ', n=3, expand=True)"
   ]
  },
  {
   "cell_type": "code",
   "execution_count": 11,
   "metadata": {},
   "outputs": [
    {
     "data": {
      "text/html": [
       "<div>\n",
       "<style scoped>\n",
       "    .dataframe tbody tr th:only-of-type {\n",
       "        vertical-align: middle;\n",
       "    }\n",
       "\n",
       "    .dataframe tbody tr th {\n",
       "        vertical-align: top;\n",
       "    }\n",
       "\n",
       "    .dataframe thead th {\n",
       "        text-align: right;\n",
       "    }\n",
       "</style>\n",
       "<table border=\"1\" class=\"dataframe\">\n",
       "  <thead>\n",
       "    <tr style=\"text-align: right;\">\n",
       "      <th></th>\n",
       "      <th>0</th>\n",
       "      <th>1</th>\n",
       "    </tr>\n",
       "  </thead>\n",
       "  <tbody>\n",
       "    <tr>\n",
       "      <th>0</th>\n",
       "      <td>moc.liame@nalla</td>\n",
       "      <td>321x asaC</td>\n",
       "    </tr>\n",
       "    <tr>\n",
       "      <th>1</th>\n",
       "      <td>rb.moc.sdsa@aaa</td>\n",
       "      <td>otnematrapA</td>\n",
       "    </tr>\n",
       "    <tr>\n",
       "      <th>2</th>\n",
       "      <td>moc.dsss@ldksadka</td>\n",
       "      <td>None</td>\n",
       "    </tr>\n",
       "    <tr>\n",
       "      <th>3</th>\n",
       "      <td>moc.liamg@@@</td>\n",
       "      <td>ETSET</td>\n",
       "    </tr>\n",
       "  </tbody>\n",
       "</table>\n",
       "</div>"
      ],
      "text/plain": [
       "                   0            1\n",
       "0    moc.liame@nalla    321x asaC\n",
       "1    rb.moc.sdsa@aaa  otnematrapA\n",
       "2  moc.dsss@ldksadka         None\n",
       "3       moc.liamg@@@        ETSET"
      ]
     },
     "execution_count": 11,
     "metadata": {},
     "output_type": "execute_result"
    }
   ],
   "source": [
    "df['Endereco'].str.split(' ', n=1, expand=True)"
   ]
  },
  {
   "cell_type": "code",
   "execution_count": 12,
   "metadata": {},
   "outputs": [
    {
     "name": "stdout",
     "output_type": "stream",
     "text": [
      "0      Casa x123\n",
      "1    Apartamento\n",
      "2           None\n",
      "3          TESTE\n",
      "Name: Endereco, dtype: object\n"
     ]
    }
   ],
   "source": [
    "# Fazendo a divisão na prática\n",
    "df['Endereco'] = df['Endereco'].str.split(' ', n=1, expand=True)[1]\n",
    "df['Endereco'] = df['Endereco'].str[::-1]\n",
    "print(df['Endereco'])"
   ]
  }
 ],
 "metadata": {
  "kernelspec": {
   "display_name": "Python 3",
   "language": "python",
   "name": "python3"
  },
  "language_info": {
   "codemirror_mode": {
    "name": "ipython",
    "version": 3
   },
   "file_extension": ".py",
   "mimetype": "text/x-python",
   "name": "python",
   "nbconvert_exporter": "python",
   "pygments_lexer": "ipython3",
   "version": "3.7.2"
  }
 },
 "nbformat": 4,
 "nbformat_minor": 2
}
