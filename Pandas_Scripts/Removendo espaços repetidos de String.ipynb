{
 "cells": [
  {
   "cell_type": "code",
   "execution_count": 1,
   "metadata": {},
   "outputs": [],
   "source": [
    "import pandas as pd\n",
    "\n",
    "# Definindo dicionário para gerar o DataFrame\n",
    "data = {'Name':['Jai', 'Princi', 'Gaurav', 'Anuj']}"
   ]
  },
  {
   "cell_type": "code",
   "execution_count": 2,
   "metadata": {},
   "outputs": [
    {
     "data": {
      "text/plain": [
       "{'Name': ['Jai', 'Princi', 'Gaurav', 'Anuj']}"
      ]
     },
     "execution_count": 2,
     "metadata": {},
     "output_type": "execute_result"
    }
   ],
   "source": [
    "data"
   ]
  },
  {
   "cell_type": "code",
   "execution_count": 3,
   "metadata": {},
   "outputs": [],
   "source": [
    "data['Endereco'] = ['Casa x123         allan@email.com',\n",
    "                    'Apartamento aa        a@asds.com.br',\n",
    "                    'akdaskdl@sssd.        com',\n",
    "                    'TESTE             @@@gmail.com']"
   ]
  },
  {
   "cell_type": "code",
   "execution_count": 4,
   "metadata": {},
   "outputs": [
    {
     "data": {
      "text/plain": [
       "{'Name': ['Jai', 'Princi', 'Gaurav', 'Anuj'],\n",
       " 'Endereco': ['Casa x123         allan@email.com',\n",
       "  'Apartamento aa        a@asds.com.br',\n",
       "  'akdaskdl@sssd.        com',\n",
       "  'TESTE             @@@gmail.com']}"
      ]
     },
     "execution_count": 4,
     "metadata": {},
     "output_type": "execute_result"
    }
   ],
   "source": [
    "data"
   ]
  },
  {
   "cell_type": "code",
   "execution_count": 5,
   "metadata": {},
   "outputs": [
    {
     "name": "stdout",
     "output_type": "stream",
     "text": [
      "     Name                             Endereco\n",
      "0     Jai    Casa x123         allan@email.com\n",
      "1  Princi  Apartamento aa        a@asds.com.br\n",
      "2  Gaurav            akdaskdl@sssd.        com\n",
      "3    Anuj       TESTE             @@@gmail.com\n"
     ]
    }
   ],
   "source": [
    "df = pd.DataFrame(data)\n",
    "\n",
    "print(df)"
   ]
  },
  {
   "cell_type": "code",
   "execution_count": 6,
   "metadata": {},
   "outputs": [
    {
     "name": "stdout",
     "output_type": "stream",
     "text": [
      "0       Casa x123 allan@email.com\n",
      "1    Apartamento aa a@asds.com.br\n",
      "2              akdaskdl@sssd. com\n",
      "3              TESTE @@@gmail.com\n",
      "Name: Endereco, dtype: object\n"
     ]
    }
   ],
   "source": [
    "# Retirando espaços em branco entre as Strings \n",
    "x = df['Endereco'].str.split().str.join(' ')\n",
    "print(x)"
   ]
  }
 ],
 "metadata": {
  "kernelspec": {
   "display_name": "Python 3",
   "language": "python",
   "name": "python3"
  },
  "language_info": {
   "codemirror_mode": {
    "name": "ipython",
    "version": 3
   },
   "file_extension": ".py",
   "mimetype": "text/x-python",
   "name": "python",
   "nbconvert_exporter": "python",
   "pygments_lexer": "ipython3",
   "version": "3.7.2"
  }
 },
 "nbformat": 4,
 "nbformat_minor": 4
}
